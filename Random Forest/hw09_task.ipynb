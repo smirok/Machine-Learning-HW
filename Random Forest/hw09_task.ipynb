{
 "cells": [
  {
   "cell_type": "markdown",
   "metadata": {
    "id": "owQHb50qJY1m"
   },
   "source": [
    "# Случайные леса\n",
    "\n",
    "В этом задании вам предстоит реализовать ансамбль деревьев решений, известный как случайный лес, применить его к публичным данным пользователей социальной сети Вконтакте, и сравнить его эффективность с ансамблем, предоставляемым библиотекой CatBoost.\n",
    "\n",
    "В результате мы сможем определить, какие подписки пользователей больше всего влияют на определение возраста и пола человека. "
   ]
  },
  {
   "cell_type": "code",
   "execution_count": 1,
   "metadata": {
    "id": "cBlwWMWbJY1q"
   },
   "outputs": [],
   "source": [
    "from sklearn.model_selection import train_test_split\n",
    "import numpy as np\n",
    "import pandas\n",
    "import random\n",
    "import matplotlib.pyplot as plt\n",
    "import matplotlib\n",
    "import copy\n",
    "from catboost import CatBoostClassifier"
   ]
  },
  {
   "cell_type": "code",
   "execution_count": 2,
   "metadata": {},
   "outputs": [],
   "source": [
    "from typing import Union, List, Dict, Any\n",
    "from copy import deepcopy\n",
    "from collections import Counter"
   ]
  },
  {
   "cell_type": "code",
   "execution_count": 3,
   "metadata": {
    "id": "RRcsIXHXJY1r"
   },
   "outputs": [],
   "source": [
    "def gini(x):\n",
    "    _, counts = np.unique(x, return_counts=True)\n",
    "    proba = counts / len(x)\n",
    "    return np.sum(proba * (1 - proba))\n",
    "    \n",
    "def entropy(x):\n",
    "    _, counts = np.unique(x, return_counts=True)\n",
    "    proba = counts / len(x)\n",
    "    return -np.sum(proba * np.log2(proba))\n",
    "\n",
    "def gain(left_y, right_y, criterion):\n",
    "    y = np.concatenate((left_y, right_y))\n",
    "    return criterion(y) - (criterion(left_y) * len(left_y) + criterion(right_y) * len(right_y)) / len(y)"
   ]
  },
  {
   "cell_type": "markdown",
   "metadata": {
    "id": "V1mmD9DIJY1r"
   },
   "source": [
    "### Задание 1 (2 балла)\n",
    "Random Forest состоит из деревьев решений. Каждое такое дерево строится на одной из выборок, полученных при помощи bagging. Элементы, которые не вошли в новую обучающую выборку, образуют out-of-bag выборку. Кроме того, в каждом узле дерева мы случайным образом выбираем набор из `max_features` и ищем признак для предиката разбиения только в этом наборе.\n",
    "\n",
    "Сегодня мы будем работать только с бинарными признаками, поэтому нет необходимости выбирать значение признака для разбиения.\n",
    "\n",
    "#### Методы\n",
    "`predict(X)` - возвращает предсказанные метки для элементов выборки `X`\n",
    "\n",
    "#### Параметры конструктора\n",
    "`X, y` - обучающая выборка и соответствующие ей метки классов. Из нее нужно получить выборку для построения дерева при помощи bagging. Out-of-bag выборку нужно запомнить, она понадобится потом.\n",
    "\n",
    "`criterion=\"gini\"` - задает критерий, который будет использоваться при построении дерева. Возможные значения: `\"gini\"`, `\"entropy\"`.\n",
    "\n",
    "`max_depth=None` - ограничение глубины дерева. Если `None` - глубина не ограничена\n",
    "\n",
    "`min_samples_leaf=1` - минимальное количество элементов в каждом листе дерева.\n",
    "\n",
    "`max_features=\"auto\"` - количество признаков, которые могут использоваться в узле. Если `\"auto\"` - равно `sqrt(X.shape[1])`"
   ]
  },
  {
   "cell_type": "code",
   "execution_count": 4,
   "metadata": {},
   "outputs": [],
   "source": [
    "class DecisionTreeLeaf:\n",
    "    \"\"\"\n",
    "\n",
    "    Attributes\n",
    "    ----------\n",
    "    y : Тип метки (напр., int или str)\n",
    "        Метка класса, который встречается чаще всего среди элементов листа дерева\n",
    "    \"\"\"\n",
    "    def __init__(self, ys, classes):\n",
    "        keys, counts = np.unique(ys, return_counts=True)\n",
    "        self.probs = dict(zip(classes, np.zeros(len(classes))))\n",
    "        for key, cnt in zip(keys, counts):\n",
    "            self.probs[key] = cnt / len(ys)\n",
    "        self.y = keys[np.argmax(counts)]\n",
    "\n",
    "class DecisionTreeNode:\n",
    "    \"\"\"\n",
    "\n",
    "    Attributes\n",
    "    ----------\n",
    "    split_dim : int\n",
    "        Измерение, по которому разбиваем выборку.\n",
    "    split_value : float\n",
    "        Значение, по которому разбираем выборку.\n",
    "    left : Union[DecisionTreeNode, DecisionTreeLeaf]\n",
    "        Поддерево, отвечающее за случай x[split_dim] < split_value.\n",
    "    right : Union[DecisionTreeNode, DecisionTreeLeaf]\n",
    "        Поддерево, отвечающее за случай x[split_dim] >= split_value. \n",
    "    \"\"\"\n",
    "    def __init__(self, split_dim: int, \n",
    "                 left: Union['DecisionTreeNode', DecisionTreeLeaf], \n",
    "                 right: Union['DecisionTreeNode', DecisionTreeLeaf]):\n",
    "        self.split_dim = split_dim\n",
    "        self.left = left\n",
    "        self.right = right"
   ]
  },
  {
   "cell_type": "code",
   "execution_count": 5,
   "metadata": {
    "id": "Vq5JcBJ4JY1s"
   },
   "outputs": [],
   "source": [
    "class DecisionTree:\n",
    "    def __init__(self, criterion=\"gini\", max_depth=None, min_samples_leaf=1, max_features=\"auto\"):\n",
    "        self.criterion = gini if criterion == 'gini' else entropy\n",
    "        self.max_depth = max_depth\n",
    "        self.min_samples_leaf = min_samples_leaf\n",
    "        self.max_features = np.sqrt(X.shape[1]) if max_features == 'auto' else max_features\n",
    "        \n",
    "    def fit(self, X, y):    \n",
    "        self.classes = np.unique(y)\n",
    "        self.root = self._build_(X, y, np.arange(len(y)))\n",
    "        \n",
    "    def predict(self, X):\n",
    "        raise NotImplementedError()\n",
    "        \n",
    "    def _build_(self, X: np.ndarray, y: np.ndarray, indices: np.ndarray, depth=0) -> Union[DecisionTreeNode, DecisionTreeLeaf]: \n",
    "        if self.max_depth is not None and depth >= self.max_depth:\n",
    "            return DecisionTreeLeaf(y[indices], self.classes)\n",
    "                        \n",
    "        n_samples, n_features = len(indices), X.shape[1]\n",
    "        picked_features = np.random.choice(n_features, int(self.max_features), replace=False)\n",
    "        \n",
    "        best_ig = 0\n",
    "        split_dim, split_pos = None, None\n",
    "        for dim in picked_features:\n",
    "            sorted_indices = (np.array(sorted(np.vstack((X[indices, dim], indices)).T, key=lambda x: x[0]))[:,1]).astype(int)\n",
    "                \n",
    "            i = np.argmax(X[sorted_indices, dim])\n",
    "            ig = gain(y[sorted_indices[:(i + 1)]], y[sorted_indices[(i + 1):]], self.criterion)\n",
    "                \n",
    "            if ig > best_ig and min(i + 1, n_samples - i - 1) >= self.min_samples_leaf:\n",
    "                split_dim = dim\n",
    "                split_pos = i + 1\n",
    "                best_ig = ig\n",
    "            \n",
    "        if best_ig > 0:\n",
    "            sorted_indices = (np.array(sorted(np.vstack((X[indices, split_dim], indices)).T, key=lambda x: x[0]))[:,1]).astype(int)\n",
    "            \n",
    "            return DecisionTreeNode(split_dim=split_dim,\n",
    "                                    left=self._build_(X, y, sorted_indices[:split_pos], depth + 1), \n",
    "                                    right=self._build_(X, y, sorted_indices[split_pos:], depth + 1))\n",
    "        else:\n",
    "            return DecisionTreeLeaf(y[indices], self.classes)\n",
    "        \n",
    "    def predict_proba(self, X: np.ndarray):\n",
    "        \n",
    "        ans = []\n",
    "        for x in X:\n",
    "            node = self.root\n",
    "            \n",
    "            while isinstance(node, DecisionTreeNode):\n",
    "                if x[node.split_dim] == 0:\n",
    "                    node = node.left\n",
    "                else:\n",
    "                    node = node.right\n",
    "                    \n",
    "            ans.append(node.probs)\n",
    "        return ans\n",
    "    \n",
    "    def predict(self, X : np.ndarray):\n",
    "        \n",
    "        proba = self.predict_proba(X)\n",
    "        return [max(p.keys(), key=lambda k: p[k]) for p in proba]\n",
    "    "
   ]
  },
  {
   "cell_type": "markdown",
   "metadata": {
    "id": "fI8Wj8b7JY1t"
   },
   "source": [
    "### Задание 2 (2 балла)\n",
    "Теперь реализуем сам Random Forest. Идея очень простая: строим `n` деревьев, а затем берем модальное предсказание.\n",
    "\n",
    "#### Параметры конструктора\n",
    "`n_estimators` - количество используемых для предсказания деревьев.\n",
    "\n",
    "Остальное - параметры деревьев.\n",
    "\n",
    "#### Методы\n",
    "`fit(X, y)` - строит `n_estimators` деревьев по выборке `X`.\n",
    "\n",
    "`predict(X)` - для каждого элемента выборки `X` возвращает самый частый класс, который предсказывают для него деревья."
   ]
  },
  {
   "cell_type": "code",
   "execution_count": 6,
   "metadata": {
    "id": "kLiXR7kxJY1t"
   },
   "outputs": [],
   "source": [
    "class RandomForestClassifier:\n",
    "    def __init__(self, criterion=\"gini\", max_depth=None, min_samples_leaf=1, max_features=\"auto\", n_estimators=10):\n",
    "        self.trees = []\n",
    "        for _ in range(n_estimators):\n",
    "            self.trees.append(DecisionTree(criterion, max_depth, min_samples_leaf, max_features))\n",
    "    \n",
    "    def fit(self, X, y):\n",
    "        self.oobs = []\n",
    "        \n",
    "        for tree in self.trees:\n",
    "            A = np.arange(X.shape[0])\n",
    "            train_indices = np.random.choice(A, X.shape[0], replace=True)\n",
    "            oobs_indices = A[~np.isin(A, train_indices)]\n",
    "            \n",
    "            self.oobs.append([X[oobs_indices], y[oobs_indices]])\n",
    "            \n",
    "            tree.fit(X[train_indices], y[train_indices])\n",
    "    \n",
    "    def predict(self, X): # soft\n",
    "        ranks = np.sum([list(map(lambda d: list(d.values()), tree.predict_proba(X))) for tree in self.trees], axis=0)\n",
    "        return self.trees[0].classes[np.argmax(ranks, axis=1)]"
   ]
  },
  {
   "cell_type": "markdown",
   "metadata": {
    "id": "3nN5QZ3bJY1u"
   },
   "source": [
    "### Задание 3 (2 балла)\n",
    "Часто хочется понимать, насколько большую роль играет тот или иной признак для предсказания класса объекта. Есть различные способы посчитать его важность. Один из простых способов сделать это для Random Forest - посчитать out-of-bag ошибку предсказания `err_oob`, а затем перемешать значения признака `j` и посчитать ее (`err_oob_j`) еще раз. Оценкой важности признака `j` для одного дерева будет разность `err_oob_j - err_oob`, важность для всего леса считается как среднее значение важности по деревьям.\n",
    "\n",
    "Реализуйте функцию `feature_importance`, которая принимает на вход Random Forest и возвращает массив, в котором содержится важность для каждого признака."
   ]
  },
  {
   "cell_type": "code",
   "execution_count": 7,
   "metadata": {
    "id": "Fr1vG6JLJY1v"
   },
   "outputs": [],
   "source": [
    "def feature_importance(rfc):\n",
    "    def classification_error(tree, X_oob, y_oob, feature):\n",
    "        saved_column = deepcopy(X_oob[:, feature])\n",
    "        np.random.shuffle(X_oob[:, feature])\n",
    "        res = 1 - np.mean(tree.predict(X_oob) == y_oob)\n",
    "        X_oob[:, feature] = saved_column\n",
    "        return res\n",
    "    \n",
    "    n_features = rfc.oobs[0][0].shape[1]\n",
    "    \n",
    "    features_importance = []\n",
    "    for feature in range(n_features):\n",
    "        err_oob = np.array([1 - np.mean(tree.predict(X_oob) == y_oob) for tree, (X_oob, y_oob) in zip(rfc.trees, rfc.oobs)])\n",
    "        err_oob_j = np.array([classification_error(tree, X_oob, y_oob, feature) for tree, (X_oob, y_oob) in zip(rfc.trees, rfc.oobs)])\n",
    "        features_importance.append(np.mean(err_oob_j - err_oob))\n",
    "        \n",
    "    return features_importance\n",
    "            \n",
    "\n",
    "def most_important_features(importance, names, k=20):\n",
    "    # Выводит названия k самых важных признаков\n",
    "    indices = np.argsort(importance)[::-1][:k]\n",
    "    return np.array(names)[indices]"
   ]
  },
  {
   "cell_type": "markdown",
   "metadata": {
    "id": "cATCqIVkJY1v"
   },
   "source": [
    "Наконец, пришло время протестировать наше дерево на простом синтетическом наборе данных. В результате точность должна быть примерно равна `1.0`, наибольшее значение важности должно быть у признака с индексом `4`, признаки с индексами `2` и `3`  должны быть одинаково важны, а остальные признаки - не важны совсем."
   ]
  },
  {
   "cell_type": "code",
   "execution_count": 8,
   "metadata": {
    "id": "VEL4eiHmJY1w"
   },
   "outputs": [
    {
     "name": "stdout",
     "output_type": "stream",
     "text": [
      "Accuracy: 1.0\n",
      "Importance: [0.001033284984478633, 0.003551823147277666, 0.1631108961455771, 0.14189986993677386, 0.38650441693428295, 0.005812445834890834]\n"
     ]
    }
   ],
   "source": [
    "def synthetic_dataset(size):\n",
    "    X = [(np.random.randint(0, 2), np.random.randint(0, 2), i % 6 == 3, \n",
    "          i % 6 == 0, i % 3 == 2, np.random.randint(0, 2)) for i in range(size)]\n",
    "    y = [i % 3 for i in range(size)]\n",
    "    return np.array(X), np.array(y)\n",
    "\n",
    "X, y = synthetic_dataset(1000)\n",
    "rfc = RandomForestClassifier(n_estimators=10)\n",
    "rfc.fit(X, y)\n",
    "print(\"Accuracy:\", np.mean(rfc.predict(X) == y))\n",
    "print(\"Importance:\", feature_importance(rfc))"
   ]
  },
  {
   "cell_type": "markdown",
   "metadata": {
    "id": "KHCKQ4hMJY1w"
   },
   "source": [
    "### Задание 4 (1 балл)\n",
    "Теперь поработаем с реальными данными.\n",
    "\n",
    "Выборка состоит из публичных анонимизированных данных пользователей социальной сети Вконтакте. Первые два столбца отражают возрастную группу (`zoomer`, `doomer` и `boomer`) и пол (`female`, `male`). Все остальные столбцы являются бинарными признаками, каждый из них определяет, подписан ли пользователь на определенную группу/публичную страницу или нет.\\\n",
    "\\\n",
    "Необходимо обучить два классификатора, один из которых определяет возрастную группу, а второй - пол.\\\n",
    "\\\n",
    "Эксперименты с множеством используемых признаков и подбор гиперпараметров приветствуются. Лес должен строиться за какое-то разумное время."
   ]
  },
  {
   "cell_type": "code",
   "execution_count": 9,
   "metadata": {
    "id": "Mga_WYifJY1w"
   },
   "outputs": [],
   "source": [
    "def read_dataset(path):\n",
    "    dataframe = pandas.read_csv(path, header=0)\n",
    "    dataset = dataframe.values.tolist()\n",
    "    random.shuffle(dataset)\n",
    "    y_age = [row[0] for row in dataset]\n",
    "    y_sex = [row[1] for row in dataset]\n",
    "    X = [row[2:] for row in dataset]\n",
    "    \n",
    "    return np.array(X), np.array(y_age), np.array(y_sex), list(dataframe.columns)[2:]"
   ]
  },
  {
   "cell_type": "code",
   "execution_count": 10,
   "metadata": {
    "id": "Qkz8Av6QJY1x"
   },
   "outputs": [],
   "source": [
    "X, y_age, y_sex, features = read_dataset(\"vk.csv\")\n",
    "X_train, X_test, y_age_train, y_age_test, y_sex_train, y_sex_test = train_test_split(X, y_age, y_sex, train_size=0.9)"
   ]
  },
  {
   "cell_type": "markdown",
   "metadata": {
    "id": "tjUqJL0fJY1x"
   },
   "source": [
    "#### Возраст"
   ]
  },
  {
   "cell_type": "code",
   "execution_count": 11,
   "metadata": {
    "id": "wg42KSCoJY1x"
   },
   "outputs": [
    {
     "name": "stdout",
     "output_type": "stream",
     "text": [
      "Accuracy: 0.6582597730138714\n",
      "Most important features:\n",
      "1. 4ch\n",
      "2. ovsyanochan\n",
      "3. styd.pozor\n",
      "4. rhymes\n",
      "5. mudakoff\n",
      "6. dayvinchik\n",
      "7. pixel_stickers\n",
      "8. reflexia_our_feelings\n",
      "9. i_d_t\n",
      "10. webestano\n",
      "11. pustota_diary\n",
      "12. pozor\n",
      "13. iwantyou\n",
      "14. pravdashowtop\n",
      "15. rapnewrap\n",
      "16. soverwenstvo.decora\n",
      "17. tumblr_vacuum\n",
      "18. flatme\n",
      "19. webmland\n",
      "20. ne1party\n"
     ]
    }
   ],
   "source": [
    "rfc = RandomForestClassifier(max_depth=6, min_samples_leaf=100, n_estimators=30)\n",
    "\n",
    "rfc.fit(X_train, y_age_train)\n",
    "print(\"Accuracy:\", np.mean(rfc.predict(X_test) == y_age_test))\n",
    "print(\"Most important features:\")\n",
    "for i, name in enumerate(most_important_features(feature_importance(rfc), features, 20)):\n",
    "    print(str(i+1) + \".\", name)"
   ]
  },
  {
   "cell_type": "markdown",
   "metadata": {
    "id": "1sP0pulKJY1x"
   },
   "source": [
    "#### Пол"
   ]
  },
  {
   "cell_type": "code",
   "execution_count": 12,
   "metadata": {
    "id": "EUou10q0JY1x"
   },
   "outputs": [
    {
     "name": "stdout",
     "output_type": "stream",
     "text": [
      "Accuracy: 0.798234552332913\n",
      "Most important features:\n",
      "1. mudakoff\n",
      "2. rapnewrap\n",
      "3. 40kg\n",
      "4. modnailru\n",
      "5. 9o_6o_9o\n",
      "6. 4ch\n",
      "7. recipes40kg\n",
      "8. cook_good\n",
      "9. girlmeme\n",
      "10. be.beauty\n",
      "11. bot_maxim\n",
      "12. academyofman\n",
      "13. be.women\n",
      "14. igm\n",
      "15. beauty\n",
      "16. zerofat\n",
      "17. sh.cook\n",
      "18. bon\n",
      "19. thesmolny\n",
      "20. combovine\n"
     ]
    }
   ],
   "source": [
    "rfc = RandomForestClassifier(max_depth=5, n_estimators=30)\n",
    "rfc.fit(X_train, y_sex_train)\n",
    "print(\"Accuracy:\", np.mean(rfc.predict(X_test) == y_sex_test))\n",
    "print(\"Most important features:\")\n",
    "for i, name in enumerate(most_important_features(feature_importance(rfc), features, 20)):\n",
    "    print(str(i+1) + \".\", name)"
   ]
  },
  {
   "cell_type": "markdown",
   "metadata": {
    "id": "g9Y4RHyhJY1y"
   },
   "source": [
    "### CatBoost\n",
    "В качестве аьтернативы попробуем CatBoost. \n",
    "\n",
    "Устаниовить его можно просто с помощью `pip install catboost`. Туториалы можно найти, например, [здесь](https://catboost.ai/docs/concepts/python-usages-examples.html#multiclassification) и [здесь](https://github.com/catboost/tutorials/blob/master/python_tutorial.ipynb). Главное - не забудьте использовать `loss_function='MultiClass'`.\\\n",
    "\\\n",
    "Сначала протестируйте CatBoost на синтетических данных. Выведите точность и важность признаков."
   ]
  },
  {
   "cell_type": "code",
   "execution_count": 13,
   "metadata": {},
   "outputs": [],
   "source": [
    "from catboost import CatBoostClassifier"
   ]
  },
  {
   "cell_type": "code",
   "execution_count": 14,
   "metadata": {
    "id": "jtMO1OPoJY1y"
   },
   "outputs": [
    {
     "name": "stdout",
     "output_type": "stream",
     "text": [
      "0:\tlearn: 0.1149784\ttotal: 46.9ms\tremaining: 422ms\n",
      "1:\tlearn: 0.0423112\ttotal: 48ms\tremaining: 192ms\n",
      "2:\tlearn: 0.0202855\ttotal: 49.1ms\tremaining: 114ms\n",
      "3:\tlearn: 0.0115630\ttotal: 50.2ms\tremaining: 75.2ms\n",
      "4:\tlearn: 0.0063923\ttotal: 51.1ms\tremaining: 51.1ms\n",
      "5:\tlearn: 0.0040969\ttotal: 51.9ms\tremaining: 34.6ms\n",
      "6:\tlearn: 0.0029190\ttotal: 52.7ms\tremaining: 22.6ms\n",
      "7:\tlearn: 0.0025008\ttotal: 53.8ms\tremaining: 13.4ms\n",
      "8:\tlearn: 0.0021836\ttotal: 54.9ms\tremaining: 6.1ms\n",
      "9:\tlearn: 0.0017622\ttotal: 55.7ms\tremaining: 0us\n",
      "Accuracy: 1.0\n",
      "Importance: [8.35431637e-04 2.14771099e-03 2.79299620e+01 2.78741308e+01\n",
      " 4.41909557e+01 1.96830410e-03]\n"
     ]
    }
   ],
   "source": [
    "X, y = synthetic_dataset(1000)\n",
    "model = CatBoostClassifier(iterations=10,\n",
    "                           learning_rate=1,\n",
    "                           depth=5,\n",
    "                           loss_function='MultiClass')\n",
    "model.fit(X, y)\n",
    "print(\"Accuracy:\", np.mean(model.predict(X).flatten() == y))\n",
    "print(\"Importance:\", model.get_feature_importance())"
   ]
  },
  {
   "cell_type": "markdown",
   "metadata": {
    "id": "yS1cvFRHJY1y"
   },
   "source": [
    "### Задание 5 (3 балла)\n",
    "Попробуем применить один из используемых на практике алгоритмов. В этом нам поможет CatBoost. Также, как и реализованный ними RandomForest, применим его для определения пола и возраста пользователей сети Вконтакте, выведите названия наиболее важных признаков так же, как в задании 3.\\\n",
    "\\\n",
    "Эксперименты с множеством используемых признаков и подбор гиперпараметров приветствуются."
   ]
  },
  {
   "cell_type": "code",
   "execution_count": 15,
   "metadata": {
    "id": "miOvPcXbJY1y"
   },
   "outputs": [],
   "source": [
    "X, y_age, y_sex, features = read_dataset(\"vk.csv\")\n",
    "X_train, X_test, y_age_train, y_age_test, y_sex_train, y_sex_test = train_test_split(X, y_age, y_sex, train_size=0.9)\n",
    "X_train, X_eval, y_age_train, y_age_eval, y_sex_train, y_sex_eval = train_test_split(X_train, y_age_train, y_sex_train, train_size=0.8)"
   ]
  },
  {
   "cell_type": "markdown",
   "metadata": {
    "id": "NVVhaiIxJY1z"
   },
   "source": [
    "#### Возраст"
   ]
  },
  {
   "cell_type": "code",
   "execution_count": 16,
   "metadata": {
    "id": "umGP9_rpJY1z"
   },
   "outputs": [
    {
     "name": "stdout",
     "output_type": "stream",
     "text": [
      "Accuracy: 0.725094577553594\n",
      "Most important features:\n",
      "1. mudakoff\n",
      "2. ovsyanochan\n",
      "3. leprum\n",
      "4. 4ch\n",
      "5. styd.pozor\n",
      "6. fuck_humor\n",
      "7. xfilm\n",
      "8. rhymes\n",
      "9. tumblr_vacuum\n",
      "10. kino_mania\n"
     ]
    }
   ],
   "source": [
    "model = CatBoostClassifier(iterations=300,\n",
    "                           learning_rate=1,\n",
    "                           depth=4,\n",
    "                           verbose=0,\n",
    "                           loss_function='MultiClass')\n",
    "model.fit(X_train, y_age_train)\n",
    "print(\"Accuracy:\", np.mean(model.predict(X_test).flatten() == y_age_test))\n",
    "print(\"Most important features:\")\n",
    "for i, name in enumerate(most_important_features(model.get_feature_importance(), features, 10)):\n",
    "    print(str(i+1) + \".\", name)"
   ]
  },
  {
   "cell_type": "markdown",
   "metadata": {
    "id": "T7eavYC0JY1z"
   },
   "source": [
    "#### Пол"
   ]
  },
  {
   "cell_type": "code",
   "execution_count": 17,
   "metadata": {
    "id": "jvJNAmJxJY1z"
   },
   "outputs": [
    {
     "name": "stdout",
     "output_type": "stream",
     "text": [
      "Accuracy: 0.8575031525851198\n",
      "Most important features:\n",
      "1. 40kg\n",
      "2. mudakoff\n",
      "3. igm\n",
      "4. girlmeme\n",
      "5. modnailru\n",
      "6. academyofman\n",
      "7. femalemem\n",
      "8. cook_good\n",
      "9. zerofat\n",
      "10. be.beauty\n"
     ]
    }
   ],
   "source": [
    "model = CatBoostClassifier(iterations=300,\n",
    "                           learning_rate=1,\n",
    "                           depth=4,\n",
    "                           verbose=0,\n",
    "                           loss_function='MultiClass')\n",
    "model.fit(X_train, y_sex_train)\n",
    "print(\"Accuracy:\", np.mean(model.predict(X_test).flatten() == y_sex_test))\n",
    "print(\"Most important features:\")\n",
    "for i, name in enumerate(most_important_features(model.get_feature_importance(), features, 10)):\n",
    "    print(str(i+1) + \".\", name)"
   ]
  }
 ],
 "metadata": {
  "colab": {
   "collapsed_sections": [],
   "name": "hw09_task.ipynb",
   "provenance": []
  },
  "kernelspec": {
   "display_name": "Python 3 (ipykernel)",
   "language": "python",
   "name": "python3"
  },
  "language_info": {
   "codemirror_mode": {
    "name": "ipython",
    "version": 3
   },
   "file_extension": ".py",
   "mimetype": "text/x-python",
   "name": "python",
   "nbconvert_exporter": "python",
   "pygments_lexer": "ipython3",
   "version": "3.8.10"
  }
 },
 "nbformat": 4,
 "nbformat_minor": 4
}
