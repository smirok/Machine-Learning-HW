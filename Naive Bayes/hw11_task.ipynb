{
 "cells": [
  {
   "cell_type": "markdown",
   "metadata": {},
   "source": [
    "# Наивный Байес и спам\n",
    "\n",
    "В этом задании вам нужно будет реализовать классификацию методом Байеса в предположении независимости компонент `x`."
   ]
  },
  {
   "cell_type": "code",
   "execution_count": 1,
   "metadata": {},
   "outputs": [],
   "source": [
    "from sklearn.model_selection import train_test_split\n",
    "import numpy as np\n",
    "import pandas\n",
    "import random\n",
    "import matplotlib.pyplot as plt\n",
    "import matplotlib\n",
    "import copy\n",
    "from collections import Counter\n",
    "from nltk.stem.snowball import SnowballStemmer"
   ]
  },
  {
   "cell_type": "code",
   "execution_count": 2,
   "metadata": {},
   "outputs": [],
   "source": [
    "import re\n",
    "def read_dataset(filename):\n",
    "    file = open(filename, encoding=\"utf-8\")\n",
    "    x = []\n",
    "    y = []\n",
    "    for line in file:\n",
    "        cl, sms = re.split(\"^(ham|spam)[\\t\\s]+(.*)$\", line)[1:3]\n",
    "        x.append(sms)\n",
    "        y.append(cl)\n",
    "    return np.array(x, dtype=np.str), np.array(y, dtype=np.str)"
   ]
  },
  {
   "cell_type": "code",
   "execution_count": 3,
   "metadata": {},
   "outputs": [],
   "source": [
    "def get_precision_recall_accuracy(y_pred, y_true):\n",
    "    classes = np.unique(list(y_pred) + list(y_true))\n",
    "    true_positive = dict((c, 0) for c in classes)\n",
    "    true_negative = dict((c, 0) for c in classes)\n",
    "    false_positive = dict((c, 0) for c in classes)\n",
    "    false_negative = dict((c, 0) for c in classes)\n",
    "    for c_pred, c_true in zip(y_pred, y_true):\n",
    "        for c in classes:\n",
    "            if c_true == c:\n",
    "                if c_pred == c_true:\n",
    "                    true_positive[c] = true_positive.get(c, 0) + 1\n",
    "                else:\n",
    "                    false_negative[c] = false_negative.get(c, 0) + 1\n",
    "            else:\n",
    "                if c_pred == c:\n",
    "                    false_positive[c] = false_positive.get(c, 0) + 1\n",
    "                else:\n",
    "                    true_negative[c] = true_negative.get(c, 0) + 1\n",
    "    precision = dict((c, 1 if true_positive[c] + false_positive[c] == 0 else true_positive[c] / (true_positive[c] + false_positive[c])) for c in classes)\n",
    "    recall = dict((c, 1 if true_positive[c] + false_negative[c] == 0 else  true_positive[c] / (true_positive[c] + false_negative[c])) for c in classes)\n",
    "    accuracy = sum([true_positive[c] for c in classes]) / len(y_pred)\n",
    "    return precision, recall, accuracy"
   ]
  },
  {
   "cell_type": "code",
   "execution_count": 4,
   "metadata": {},
   "outputs": [],
   "source": [
    "def read_csv_dataset(filename):\n",
    "    df = pandas.read_csv(filename, encoding='latin-1')\n",
    "    df.dropna(how=\"any\", inplace=True, axis=1)\n",
    "    df = df.rename(columns={'v1': 'y', 'v2': 'x'})\n",
    "    return df.x, df.y"
   ]
  },
  {
   "cell_type": "code",
   "execution_count": 5,
   "metadata": {},
   "outputs": [],
   "source": [
    "X, y = read_csv_dataset(\"spam.csv\")"
   ]
  },
  {
   "cell_type": "code",
   "execution_count": 6,
   "metadata": {},
   "outputs": [],
   "source": [
    "X_train, X_test, y_train, y_test = train_test_split(X, y, train_size=0.9)"
   ]
  },
  {
   "cell_type": "markdown",
   "metadata": {},
   "source": [
    "#### Naive Bayes\n",
    "\n",
    "Реализуйте классификацию методом Байеса. При реализации следует считать, что значения каждой компоненты дискретны, а `p(x|y)` имеет биномиальное распределение.\n",
    "\n",
    "#### Методы\n",
    "`fit(X, y)` - оценивает параметры распределения `p(x|y)` для каждого `y`. \n",
    "\n",
    "`log_proba(X)` - для каждого элемента набора `X` считает логарифм вероятности отнести его к каждому классу. По теореме Байеса: `p(y|x) = p(y)p(x|y)/p(x)`. Соответственно, после логарифмирования: `log p(y|x) = log p(y) + log p(x|y) - log p(x)`. Поскольку `log p(x)` является независящей от класса `y` константой, это слагаемое никак не влияет на решение задачи максимизации. Поэтому его можно просто убрать для простоты."
   ]
  },
  {
   "cell_type": "code",
   "execution_count": 7,
   "metadata": {},
   "outputs": [],
   "source": [
    "class NaiveBayes:\n",
    "    def __init__(self, alpha):\n",
    "        self.alpha = alpha # Параметр аддитивной регуляризации\n",
    "    \n",
    "    def fit(self, X, y):\n",
    "        y = np.array(y)\n",
    "        \n",
    "        self.classes, counts = np.unique(y, return_counts=True)\n",
    "        self.log_classes_proba = np.log(counts / len(y))\n",
    "\n",
    "        n_features = X.shape[1]\n",
    "        self.log_aposterior_proba = np.zeros(shape=(len(self.classes), n_features))\n",
    "        \n",
    "        for class_id, class_name in enumerate(self.classes):\n",
    "            for feature_id in range(n_features):\n",
    "                self.log_aposterior_proba[class_id, feature_id] = \\\n",
    "                        np.log((np.sum(X[np.argwhere(y == class_name), feature_id]) + self.alpha) / (np.sum(X[:, feature_id]) + self.alpha * len(self.classes)))\n",
    "                                             \n",
    "    def predict(self, X):\n",
    "        return [self.classes[i] for i in np.argmax(self.log_proba(X), axis=1)]\n",
    "    \n",
    "    def log_proba(self, X):\n",
    "        return self.log_classes_proba + X @ self.log_aposterior_proba.T"
   ]
  },
  {
   "cell_type": "markdown",
   "metadata": {},
   "source": [
    "#### Bag of words\n",
    "Теперь реализуем метод bag of words. Задача состоит в том, чтобы посчитать количество вхождений каждого слова в предложение.\n",
    "\n",
    "#### Методы\n",
    "`__init__(X, voc_limit)` - инициализирует BoW, составляя словарь, который будет использоваться для векторизации предложений. Размер словаря должен быть не больше `voc_limit`, в него должны входить самые часто встречающиеся в выборке слова.\n",
    "\n",
    "`transform(X)` - векторизует сообщения из набора."
   ]
  },
  {
   "cell_type": "code",
   "execution_count": 8,
   "metadata": {},
   "outputs": [],
   "source": [
    "class BoW:\n",
    "    def __init__(self, X, voc_limit=1000):\n",
    "        X = np.array(X)\n",
    "        counter = Counter()\n",
    "        \n",
    "        for x in X:\n",
    "            counter.update(x.split(' '))\n",
    "        \n",
    "        vocab, s = zip(*counter.most_common(voc_limit))\n",
    "        self.vocabulary_ = dict(zip(vocab, np.arange(voc_limit)))\n",
    "        \n",
    "    def transform(self, X):\n",
    "        transformed_X = np.zeros((X.shape[0], len(self.vocabulary_)), dtype=int)\n",
    "        for line_ind, x in enumerate(X):\n",
    "            words = x.split(' ')\n",
    "            for word in words:\n",
    "                index = self.vocabulary_.get(word)\n",
    "                if index is not None:\n",
    "                    transformed_X[line_ind][index] += 1\n",
    "                    \n",
    "        return transformed_X    "
   ]
  },
  {
   "cell_type": "code",
   "execution_count": 9,
   "metadata": {},
   "outputs": [],
   "source": [
    "bow = BoW(X_train, voc_limit=500)\n",
    "X_train_bow = bow.transform(X_train)\n",
    "X_test_bow = bow.transform(X_test)"
   ]
  },
  {
   "cell_type": "code",
   "execution_count": 10,
   "metadata": {},
   "outputs": [
    {
     "name": "stdout",
     "output_type": "stream",
     "text": [
      "precision = {'ham': 0.9035250463821892, 'spam': 0.9473684210526315}\n",
      "recall = {'ham': 0.9979508196721312, 'spam': 0.2571428571428571}\n",
      "accuracy = 0.9050179211469535\n"
     ]
    }
   ],
   "source": [
    "predictor = NaiveBayes(0.001)\n",
    "predictor.fit(X_train_bow, y_train)\n",
    "precision, recall, accuracy = get_precision_recall_accuracy(predictor.predict(X_test_bow), y_test)\n",
    "print(f'precision = {precision}', \n",
    "      f'recall = {recall}',\n",
    "      f'accuracy = {accuracy}', sep='\\n')"
   ]
  },
  {
   "cell_type": "markdown",
   "metadata": {},
   "source": [
    "#### Стемминг\n",
    "Теперь добавим в BoW стемминг. Для этого нам понадобится класс SnowballStemmer из пакета `nltk`\n",
    "\n",
    "#### Методы\n",
    "`__init__(X, voc_limit)` - инициализирует BoW, составляя словарь, который будет использоваться для векторизации предложений. Размер словаря должен быть не больше `voc_limit`, в него должны входить самые часто встречающиеся в выборке слова.\n",
    "\n",
    "`transform(X)` - векторизует сообщения из набора."
   ]
  },
  {
   "cell_type": "code",
   "execution_count": 11,
   "metadata": {},
   "outputs": [],
   "source": [
    "class BowStem:\n",
    "    def __init__(self, X, voc_limit=1000):\n",
    "        X = np.array(X)\n",
    "        counter = Counter()\n",
    "        self.stemmer = SnowballStemmer(\"english\")\n",
    "        \n",
    "        for x in X:\n",
    "            counter.update([self.stemmer.stem(word) for word in x.split(' ')])\n",
    "        \n",
    "        vocab, s = zip(*counter.most_common(voc_limit))\n",
    "        self.vocabulary_ = dict(zip(vocab, np.arange(voc_limit)))\n",
    "        \n",
    "    def transform(self, X):\n",
    "        transformed_X = np.zeros((X.shape[0], len(self.vocabulary_)), dtype=int)\n",
    "        for line_ind, x in enumerate(X):\n",
    "            words = [self.stemmer.stem(word) for word in x.split(' ')]\n",
    "            for word in words:\n",
    "                index = self.vocabulary_.get(word)\n",
    "                if index is not None:\n",
    "                    transformed_X[line_ind][index] += 1\n",
    "                    \n",
    "        return transformed_X "
   ]
  },
  {
   "cell_type": "code",
   "execution_count": 12,
   "metadata": {},
   "outputs": [],
   "source": [
    "bows = BowStem(X_train, voc_limit=500)\n",
    "X_train_bows = bows.transform(X_train)\n",
    "X_test_bows = bows.transform(X_test)"
   ]
  },
  {
   "cell_type": "code",
   "execution_count": 13,
   "metadata": {},
   "outputs": [
    {
     "data": {
      "text/plain": [
       "({'ham': 0.9155722326454033, 'spam': 1.0},\n",
       " {'ham': 1.0, 'spam': 0.35714285714285715},\n",
       " 0.9193548387096774)"
      ]
     },
     "execution_count": 13,
     "metadata": {},
     "output_type": "execute_result"
    }
   ],
   "source": [
    "predictor = NaiveBayes(0.001)\n",
    "predictor.fit(X_train_bows, y_train)\n",
    "get_precision_recall_accuracy(predictor.predict(X_test_bows), y_test)"
   ]
  }
 ],
 "metadata": {
  "kernelspec": {
   "display_name": "Python 3 (ipykernel)",
   "language": "python",
   "name": "python3"
  },
  "language_info": {
   "codemirror_mode": {
    "name": "ipython",
    "version": 3
   },
   "file_extension": ".py",
   "mimetype": "text/x-python",
   "name": "python",
   "nbconvert_exporter": "python",
   "pygments_lexer": "ipython3",
   "version": "3.8.10"
  }
 },
 "nbformat": 4,
 "nbformat_minor": 4
}
