{
 "cells": [
  {
   "cell_type": "markdown",
   "metadata": {
    "id": "9Qp0H_zUQuu_"
   },
   "source": [
    "# Нейронные сети\n",
    "\n",
    "Для начала вам предстоит реализовать свой собственный backpropagation и протестировать его на реальных данных, а затем научиться обучать нейронные сети при помощи библиотеки `PyTorch` и использовать это умение для классификации классического набора данных CIFAR10."
   ]
  },
  {
   "cell_type": "code",
   "execution_count": 1,
   "metadata": {
    "id": "22ezVRf3QuvA"
   },
   "outputs": [],
   "source": [
    "import numpy as np\n",
    "import copy\n",
    "from sklearn.datasets import make_blobs, make_moons\n",
    "from typing import List, NoReturn"
   ]
  },
  {
   "cell_type": "markdown",
   "metadata": {
    "id": "4qfDPH_LQuvF"
   },
   "source": [
    "### Задание 1 (3 балла)\n",
    "Нейронные сети состоят из слоев, поэтому для начала понадобится реализовать их. Пока нам понадобятся только три:\n",
    "\n",
    "`Linear` - полносвязный слой, в котором `y = Wx + b`, где `y` - выход, `x` - вход, `W` - матрица весов, а `b` - смещение. \n",
    "\n",
    "`ReLU` - слой, соответствующий функции активации `y = max(0, x)`.\n",
    "\n",
    "`Softmax` - слой, соответствующий функции активации [softmax](https://ru.wikipedia.org/wiki/Softmax)\n",
    "\n",
    "\n",
    "#### Методы\n",
    "`forward(X)` - возвращает предсказанные для `X`. `X` может быть как вектором, так и батчем\n",
    "\n",
    "`backward(d)` - считает градиент при помощи обратного распространения ошибки. Возвращает новое значение `d`\n",
    "\n",
    "`update(alpha)` - обновляет веса (если необходимо) с заданой скоростью обучения"
   ]
  },
  {
   "cell_type": "code",
   "execution_count": 2,
   "metadata": {
    "id": "RWFLlHqaYbgC"
   },
   "outputs": [],
   "source": [
    "class Module:\n",
    "    \"\"\"\n",
    "    Абстрактный класс. Его менять не нужно.\n",
    "    \"\"\"\n",
    "    def forward(self, x):\n",
    "        raise NotImplementedError()\n",
    "    \n",
    "    def backward(self, d):\n",
    "        raise NotImplementedError()\n",
    "        \n",
    "    def update(self, alpha):\n",
    "        pass"
   ]
  },
  {
   "cell_type": "code",
   "execution_count": 4,
   "metadata": {
    "id": "aYS2gE4PYepZ"
   },
   "outputs": [],
   "source": [
    "class Linear(Module):\n",
    "    \"\"\"\n",
    "    Линейный полносвязный слой.\n",
    "    \"\"\"\n",
    "    def __init__(self, in_features: int, out_features: int):\n",
    "        \"\"\"\n",
    "        Parameters\n",
    "        ----------\n",
    "        in_features : int\n",
    "            Размер входа.\n",
    "        out_features : int \n",
    "            Размер выхода.\n",
    "    \n",
    "        Notes\n",
    "        -----\n",
    "        W и b инициализируются случайно.\n",
    "        \"\"\"\n",
    "                \n",
    "        self.in_features = in_features\n",
    "        self.out_features = out_features\n",
    "        \n",
    "        np.random.seed(42)\n",
    "        self.w = (np.random.sample((in_features, out_features)) * 2 - 1) / 10 # матрица размера [in_features, out_features]\n",
    "        self.b = (np.random.sample(out_features) * 2 - 1) / 10 # вектор размера [out_features]\n",
    "    \n",
    "    def forward(self, x: np.ndarray) -> np.ndarray:\n",
    "        \"\"\"\n",
    "        Возвращает y = Wx + b.\n",
    "\n",
    "        Parameters\n",
    "        ----------\n",
    "        x : np.ndarray\n",
    "            Входной вектор или батч.\n",
    "            То есть, либо x вектор с in_features элементов,\n",
    "            либо матрица размерности (batch_size, in_features).\n",
    "    \n",
    "        Return\n",
    "        ------\n",
    "        y : np.ndarray\n",
    "            Выход после слоя.\n",
    "            Либо вектор с out_features элементами,\n",
    "            либо матрица размерности (batch_size, out_features)\n",
    "\n",
    "        \"\"\"\n",
    "        \n",
    "        self.input = copy.deepcopy(x)\n",
    "        \n",
    "        return x @ self.w + self.b\n",
    "    \n",
    "    def backward(self, d: np.ndarray) -> np.ndarray:\n",
    "        \"\"\"\n",
    "        Cчитает градиент при помощи обратного распространения ошибки.\n",
    "\n",
    "        Parameters\n",
    "        ----------\n",
    "        d : np.ndarray\n",
    "            Градиент.\n",
    "        Return\n",
    "        ------\n",
    "        np.ndarray\n",
    "            Новое значение градиента.\n",
    "        \"\"\"\n",
    "\n",
    "        grad_x = d @ self.w.T\n",
    "        self.grad_w = self.input.T @ d\n",
    "        self.grad_b = np.sum(d, axis=0)\n",
    "        \n",
    "        return grad_x\n",
    "        \n",
    "    def update(self, alpha: float) -> NoReturn:\n",
    "        \"\"\"\n",
    "        Обновляет W и b с заданной скоростью обучения.\n",
    "\n",
    "        Parameters\n",
    "        ----------\n",
    "        alpha : float\n",
    "            Скорость обучения.\n",
    "        \"\"\"\n",
    "\n",
    "        self.w -= alpha * self.grad_w\n",
    "        self.b -= alpha * self.grad_b\n",
    "        "
   ]
  },
  {
   "cell_type": "code",
   "execution_count": 5,
   "metadata": {
    "id": "94hkbnD1QuvG"
   },
   "outputs": [],
   "source": [
    "class ReLU(Module):\n",
    "    \"\"\"\n",
    "    Слой, соответствующий функции активации ReLU.\n",
    "    \"\"\"\n",
    "    def __init__(self):\n",
    "        pass\n",
    "    \n",
    "    def forward(self, x: np.ndarray) -> np.ndarray:\n",
    "        \"\"\"\n",
    "        Возвращает y = max(0, x).\n",
    "\n",
    "        Parameters\n",
    "        ----------\n",
    "        x : np.ndarray\n",
    "            Входной вектор или батч.\n",
    "    \n",
    "        Return\n",
    "        ------\n",
    "        y : np.ndarray\n",
    "            Выход после слоя (той же размерности, что и вход).\n",
    "\n",
    "        \"\"\"\n",
    "        \n",
    "        self.input = copy.deepcopy(x)\n",
    "\n",
    "        return np.maximum(0, self.input)\n",
    "        \n",
    "    def backward(self, d) -> np.ndarray:\n",
    "        \"\"\"\n",
    "        Cчитает градиент при помощи обратного распространения ошибки.\n",
    "\n",
    "        Parameters\n",
    "        ----------\n",
    "        d : np.ndarray\n",
    "            Градиент.\n",
    "        Return\n",
    "        ------\n",
    "        np.ndarray\n",
    "            Новое значение градиента.\n",
    "        \"\"\"\n",
    "        \n",
    "        return d * (self.input > 0)\n",
    "        \n",
    "        \n",
    "class Softmax(Module):\n",
    "    \"\"\"\n",
    "    Слой, соответствующий функции активации Softmax.\n",
    "    \"\"\"\n",
    "    def __init__(self):\n",
    "        pass\n",
    "        \n",
    "    def forward(self, x: np.ndarray) -> np.ndarray:\n",
    "        \"\"\"\n",
    "        Возвращает y = Softmax(x).\n",
    "\n",
    "        Parameters\n",
    "        ----------\n",
    "        x : np.ndarray\n",
    "            Входной вектор или батч.\n",
    "    \n",
    "        Return\n",
    "        ------\n",
    "        y : np.ndarray\n",
    "            Выход после слоя (той же размерности, что и вход).\n",
    "\n",
    "        \"\"\"\n",
    "        \n",
    "        result = np.exp(copy.deepcopy(x))\n",
    "\n",
    "        return result / result.sum(axis=1)[:, np.newaxis]\n",
    "        \n",
    "    def backward(self, d) -> np.ndarray:\n",
    "        \"\"\"\n",
    "        Cчитает градиент при помощи обратного распространения ошибки.\n",
    "\n",
    "        Parameters\n",
    "        ----------\n",
    "        d : np.ndarray\n",
    "            Градиент.\n",
    "        Return\n",
    "        ------\n",
    "        np.ndarray\n",
    "            Новое значение градиента.\n",
    "        \"\"\"\n",
    "        \n",
    "        pass # в слой перед softmax-ом сразу передадим градиент композиции cross entropy и softmax"
   ]
  },
  {
   "cell_type": "markdown",
   "metadata": {
    "id": "Rb_ip_h8QuvJ"
   },
   "source": [
    "### Задание 2 (2 балла)\n",
    "Теперь сделаем саму нейронную сеть.\n",
    "\n",
    "#### Методы\n",
    "`fit(X, y)` - обучает нейронную сеть заданное число эпох. В каждой эпохе необходимо использовать [cross-entropy loss](https://ml-cheatsheet.readthedocs.io/en/latest/loss_functions.html#cross-entropy) для обучения, а так же производить обновления не по одному элементу, а используя батчи.\n",
    "\n",
    "`predict_proba(X)` - предсказывает вероятности классов для элементов `X`\n",
    "\n",
    "#### Параметры конструктора\n",
    "`modules` - список, состоящий из ранее реализованных модулей и описывающий слои нейронной сети. В конец необходимо добавить `Softmax`\n",
    "\n",
    "`epochs` - количество эпох обучения\n",
    "\n",
    "`alpha` - скорость обучения"
   ]
  },
  {
   "cell_type": "code",
   "execution_count": 37,
   "metadata": {
    "id": "Q_JFCizKQuvK"
   },
   "outputs": [],
   "source": [
    "class MLPClassifier:\n",
    "    def __init__(self, modules: List[Module], epochs: int = 40, alpha: float = 0.01):\n",
    "        \"\"\"\n",
    "        Parameters\n",
    "        ----------\n",
    "        modules : List[Module]\n",
    "            Cписок, состоящий из ранее реализованных модулей и \n",
    "            описывающий слои нейронной сети. \n",
    "            В конец необходимо добавить Softmax.\n",
    "        epochs : int\n",
    "            Количество эпох обученияю\n",
    "        alpha : float\n",
    "            Cкорость обучения.\n",
    "        \"\"\"\n",
    "        \n",
    "        self.modules = modules\n",
    "        self.modules.append(Softmax())\n",
    "        \n",
    "        self.epochs = epochs\n",
    "        self.alpha = alpha\n",
    "            \n",
    "    def fit(self, X: np.ndarray, y: np.ndarray, batch_size=32) -> NoReturn:\n",
    "        \"\"\"\n",
    "        Обучает нейронную сеть заданное число эпох. \n",
    "        В каждой эпохе необходимо использовать cross-entropy loss для обучения, \n",
    "        а так же производить обновления не по одному элементу, а используя батчи.\n",
    "\n",
    "        Parameters\n",
    "        ----------\n",
    "        X : np.ndarray\n",
    "            Данные для обучения.\n",
    "        y : np.ndarray\n",
    "            Вектор меток классов для данных.\n",
    "        batch_size : int\n",
    "            Размер батча.\n",
    "        \"\"\"\n",
    "        \n",
    "        for _ in range(self.epochs):\n",
    "            for pos in range(0, X.shape[0], batch_size):\n",
    "                current_batch_size = min(batch_size, X.shape[0] - pos)\n",
    "                \n",
    "                result = copy.deepcopy(X[pos : pos + current_batch_size])\n",
    "                batch_y  = copy.deepcopy(y[pos : pos + current_batch_size])\n",
    "                \n",
    "                for modul in self.modules:\n",
    "                    result = modul.forward(result)\n",
    "                \n",
    "                self.n_classes = result.shape[1]\n",
    "                \n",
    "                result[np.arange(result.shape[0]), batch_y] -= 1 # теперь в result лежит градиент композиции сross entropy и softmax-a\n",
    "                    \n",
    "                for modul in (self.modules[:-1])[::-1]: # без softmax слоя\n",
    "                    result = modul.backward(result)\n",
    "                    modul.update(self.alpha)\n",
    "                                \n",
    "        \n",
    "    def predict_proba(self, X: np.ndarray) -> np.ndarray:\n",
    "        \"\"\"\n",
    "        Предсказывает вероятности классов для элементов X.\n",
    "\n",
    "        Parameters\n",
    "        ----------\n",
    "        X : np.ndarray\n",
    "            Данные для предсказания.\n",
    "        \n",
    "        Return\n",
    "        ------\n",
    "        np.ndarray\n",
    "            Предсказанные вероятности классов для всех элементов X.\n",
    "            Размерность (X.shape[0], n_classes)\n",
    "        \n",
    "        \"\"\"\n",
    "        \n",
    "        probas = copy.deepcopy(X)\n",
    "        for modul in self.modules:\n",
    "            probas = modul.forward(probas)\n",
    "        \n",
    "        return probas\n",
    "        \n",
    "    def predict(self, X) -> np.ndarray:\n",
    "        \"\"\"\n",
    "        Предсказывает метки классов для элементов X.\n",
    "\n",
    "        Parameters\n",
    "        ----------\n",
    "        X : np.ndarray\n",
    "            Данные для предсказания.\n",
    "        \n",
    "        Return\n",
    "        ------\n",
    "        np.ndarray\n",
    "            Вектор предсказанных классов\n",
    "        \n",
    "        \"\"\"\n",
    "        \n",
    "        p = self.predict_proba(X)\n",
    "        return np.argmax(p, axis=1)"
   ]
  },
  {
   "cell_type": "code",
   "execution_count": 38,
   "metadata": {
    "id": "onDymYQXQuvN"
   },
   "outputs": [],
   "source": [
    "p = MLPClassifier([\n",
    "    Linear(4, 64),\n",
    "    ReLU(),\n",
    "    Linear(64, 64),\n",
    "    ReLU(),\n",
    "    Linear(64, 2)\n",
    "])\n",
    "\n",
    "X = np.random.randn(50, 4)\n",
    "y = [(0 if x[0] > x[2]**2 or x[3]**3 > 0.5 else 1) for x in X]\n",
    "p.fit(X, y)"
   ]
  },
  {
   "cell_type": "markdown",
   "metadata": {
    "id": "3C1EIsDqQuvQ"
   },
   "source": [
    "### Задание 3 (2 балла)\n",
    "Протестируем наше решение на синтетических данных. Необходимо подобрать гиперпараметры, при которых качество полученных классификаторов будет достаточным.\n",
    "\n",
    "#### Оценка\n",
    "Accuracy на первом датасете больше 0.85 - +1 балл\n",
    "\n",
    "Accuracy на втором датасете больше 0.85 - +1 балл"
   ]
  },
  {
   "cell_type": "code",
   "execution_count": 39,
   "metadata": {
    "colab": {
     "base_uri": "https://localhost:8080/"
    },
    "id": "d5UAgXTcQuvQ",
    "outputId": "388973b9-c2df-4a81-f940-5e3f57967abd"
   },
   "outputs": [
    {
     "name": "stdout",
     "output_type": "stream",
     "text": [
      "Accuracy 1.0\n"
     ]
    }
   ],
   "source": [
    "X, y = make_moons(400, noise=0.075)\n",
    "X_test, y_test = make_moons(400, noise=0.075)\n",
    "\n",
    "best_acc = 0\n",
    "for _ in range(25):\n",
    "    p1 = MLPClassifier([\n",
    "        Linear(X.shape[1], 64),\n",
    "        ReLU(),\n",
    "        Linear(64, 64),\n",
    "        ReLU(),\n",
    "        Linear(64, len(np.unique(y)))\n",
    "    ], alpha=0.05)\n",
    "\n",
    "    p1.fit(X, y)\n",
    "    best_acc = max(np.mean(p1.predict(X_test) == y_test), best_acc)\n",
    "print(\"Accuracy\", best_acc)"
   ]
  },
  {
   "cell_type": "code",
   "execution_count": 40,
   "metadata": {
    "colab": {
     "base_uri": "https://localhost:8080/"
    },
    "id": "MMDJM4qFQuvT",
    "outputId": "ee311dd8-99b7-4264-d1ab-c7708e185270"
   },
   "outputs": [
    {
     "name": "stdout",
     "output_type": "stream",
     "text": [
      "Accuracy 0.935\n"
     ]
    }
   ],
   "source": [
    "X, y = make_blobs(400, 2, centers=[[0, 0], [2.5, 2.5], [-2.5, 3]])\n",
    "X_test, y_test = make_blobs(400, 2, centers=[[0, 0], [2.5, 2.5], [-2.5, 3]])\n",
    "best_acc = 0\n",
    "for _ in range(25):\n",
    "    p = MLPClassifier([\n",
    "        Linear(X.shape[1], 64),\n",
    "        ReLU(),\n",
    "        Linear(64, 64),\n",
    "        ReLU(),\n",
    "        Linear(64, len(np.unique(y)))\n",
    "    ])\n",
    "\n",
    "    p.fit(X, y)\n",
    "    best_acc = max(np.mean(p.predict(X_test) == y_test), best_acc)\n",
    "print(\"Accuracy\", best_acc)"
   ]
  },
  {
   "cell_type": "markdown",
   "metadata": {
    "id": "nPbVTFnMQuvW"
   },
   "source": [
    "## PyTorch\n",
    "\n",
    "Для выполнения следующего задания понадобится PyTorch. [Инструкция по установке](https://pytorch.org/get-started/locally/)\n",
    "\n",
    "Если у вас нет GPU, то можно использовать [Google Colab](https://colab.research.google.com/)"
   ]
  },
  {
   "cell_type": "code",
   "execution_count": 10,
   "metadata": {
    "id": "tV0mJLu-QuvX"
   },
   "outputs": [],
   "source": [
    "from torchvision import datasets, transforms\n",
    "from torch.utils.data import DataLoader\n",
    "import torch\n",
    "from tqdm import tqdm\n",
    "from torch import nn\n",
    "import torch.nn.functional as F\n",
    "import matplotlib.pyplot as plt"
   ]
  },
  {
   "cell_type": "code",
   "execution_count": 14,
   "metadata": {
    "colab": {
     "base_uri": "https://localhost:8080/",
     "height": 100,
     "referenced_widgets": [
      "e2fd22dea66e40918d63f82480c17bb6",
      "fbab2e16ed3344538d32c8306ad0dcd1",
      "d96d7ef9b2864c86aedacf153ba1690e",
      "2b2617448bea46a1bed0b422c3120bc2",
      "012fea2716044fbfa10484ce44feffea",
      "e84f5022500f4735974118592aa907ca",
      "e0e85d34b25a45469aade3f1d7ec35c9",
      "09299269f2ac420183e8a83f0e210346",
      "5c6eb89346ed42cdbfb5aba4f3737dd5",
      "510a3e2157e646dc9228c6c373407a55",
      "c23538dc20fe4456b5f69b22248aae06"
     ]
    },
    "id": "VUC_QqpAQuva",
    "outputId": "f9969d7b-8627-4504-c4fe-47066a66d70a"
   },
   "outputs": [
    {
     "name": "stdout",
     "output_type": "stream",
     "text": [
      "Downloading https://www.cs.toronto.edu/~kriz/cifar-10-python.tar.gz to datasets/cifar10/cifar-10-python.tar.gz\n"
     ]
    },
    {
     "data": {
      "application/vnd.jupyter.widget-view+json": {
       "model_id": "e2fd22dea66e40918d63f82480c17bb6",
       "version_major": 2,
       "version_minor": 0
      },
      "text/plain": [
       "  0%|          | 0/170498071 [00:00<?, ?it/s]"
      ]
     },
     "metadata": {},
     "output_type": "display_data"
    },
    {
     "name": "stdout",
     "output_type": "stream",
     "text": [
      "Extracting datasets/cifar10/cifar-10-python.tar.gz to datasets/cifar10\n",
      "Files already downloaded and verified\n"
     ]
    }
   ],
   "source": [
    "device = torch.device(\"cuda\" if torch.cuda.is_available() else \"cpu\")\n",
    "\n",
    "t = transforms.ToTensor()\n",
    "\n",
    "cifar_train = datasets.CIFAR10(\"datasets/cifar10\", download=True, train=True, transform=t)\n",
    "train_loader = DataLoader(cifar_train, batch_size=1024, shuffle=True, pin_memory=torch.cuda.is_available())\n",
    "cifar_test = datasets.CIFAR10(\"datasets/cifar10\", download=True, train=False, transform=t)\n",
    "test_loader = DataLoader(cifar_test, batch_size=1024, shuffle=False, pin_memory=torch.cuda.is_available())"
   ]
  },
  {
   "cell_type": "markdown",
   "metadata": {
    "id": "rGmpjcFfQuvd"
   },
   "source": [
    "### Задание 4 (3 балла)\n",
    "А теперь поработам с настоящими нейронными сетями и настоящими данными. Необходимо реализовать сверточную нейронную сеть, которая будет классифицировать изображения из датасета CIFAR10. Имплементируйте класс `Model` и функцию `calculate_loss`. \n",
    "\n",
    "Обратите внимание, что `Model` должна считать в конце `softmax`, т.к. мы решаем задачу классификации. Соответствеено, функция `calculate_loss` считает cross-entropy.\n",
    "\n",
    "Для успешного выполнения задания необходимо, чтобы `accuracy`, `mean precision` и `mean recall` были больше 0.5\n",
    "\n",
    "__Можно пользоваться всем содержимым библиотеки PyTorch.__"
   ]
  },
  {
   "cell_type": "code",
   "execution_count": 74,
   "metadata": {
    "id": "5sRmTKwKQuve"
   },
   "outputs": [],
   "source": [
    "class Model(nn.Module):\n",
    "    def __init__(self):\n",
    "        super().__init__()\n",
    "        self.conv1 = nn.Conv2d(3, 6, 5)\n",
    "        self.max_pool = nn.MaxPool2d(2, 2)\n",
    "        self.conv2 = nn.Conv2d(6, 12, 5)\n",
    "\n",
    "        self.fc1 = nn.Linear(12 * 5 * 5, 128)\n",
    "        self.fc2 = nn.Linear(128, 64)\n",
    "        self.fc3 = nn.Linear(64, 10)\n",
    "        \n",
    "    def forward(self, x: torch.Tensor) -> torch.Tensor:\n",
    "        x = self.max_pool(F.relu(self.conv1(x)))\n",
    "        x = self.max_pool(F.relu(self.conv2(x)))\n",
    "\n",
    "        x = torch.flatten(x, start_dim=1)\n",
    "        x = F.relu(self.fc1(x))\n",
    "        x = F.relu(self.fc2(x))\n",
    "        x = self.fc3(x)\n",
    "\n",
    "        return x\n",
    "        \n",
    "def calculate_loss(X: torch.Tensor, y: torch.Tensor, model: Model):\n",
    "    \"\"\"\n",
    "    Cчитает cross-entropy.\n",
    "\n",
    "    Parameters\n",
    "    ----------\n",
    "    X : torch.Tensor\n",
    "        Данные для обучения.\n",
    "    y : torch.Tensor\n",
    "        Метки классов.\n",
    "    model : Model\n",
    "        Модель, которую будем обучать.\n",
    "\n",
    "    \"\"\"\n",
    "    \n",
    "    y_pred = model.forward(X)\n",
    "\n",
    "    loss = nn.CrossEntropyLoss()\n",
    "\n",
    "    return loss(y_pred, y)"
   ]
  },
  {
   "cell_type": "markdown",
   "metadata": {
    "id": "JAsLmkUqQuvh"
   },
   "source": [
    "Теперь обучим нашу модель. Для этого используем ранее созданные batch loader'ы."
   ]
  },
  {
   "cell_type": "code",
   "execution_count": 75,
   "metadata": {
    "id": "k5G8iMCeQuvh"
   },
   "outputs": [],
   "source": [
    "def train(model, epochs=100):\n",
    "    optimizer = torch.optim.Adam(model.parameters())\n",
    "    train_losses = []\n",
    "    test_losses = []\n",
    "    for i in range(epochs):\n",
    "        #Train\n",
    "        loss_mean = 0\n",
    "        elements = 0\n",
    "        for X, y in iter(train_loader):\n",
    "            X = X.to(device)\n",
    "            y = y.to(device)\n",
    "            loss = calculate_loss(X, y, model)\n",
    "            optimizer.zero_grad()\n",
    "            loss.backward()\n",
    "            optimizer.step()\n",
    "            loss_mean += loss.item() * len(X)\n",
    "            elements += len(X)\n",
    "        train_losses.append(loss_mean / elements)\n",
    "        #Test\n",
    "        loss_mean = 0 \n",
    "        elements = 0\n",
    "        for X, y in iter(test_loader):\n",
    "            X = X.to(device)\n",
    "            y = y.to(device)\n",
    "            loss = calculate_loss(X, y, model)\n",
    "            loss_mean += loss.item() * len(X)\n",
    "            elements += len(X)\n",
    "        test_losses.append(loss_mean / elements)\n",
    "        print(\"Epoch\", i, \"| Train loss\", train_losses[-1], \"| Test loss\", test_losses[-1])\n",
    "    return train_losses, test_losses"
   ]
  },
  {
   "cell_type": "code",
   "execution_count": 76,
   "metadata": {
    "colab": {
     "base_uri": "https://localhost:8080/"
    },
    "id": "vmD9eWJOQuvl",
    "outputId": "80647836-97dc-4942-df3e-75d6486379a1",
    "scrolled": true
   },
   "outputs": [
    {
     "name": "stdout",
     "output_type": "stream",
     "text": [
      "Epoch 0 | Train loss 2.1455782096099854 | Test loss 2.0148253257751465\n",
      "Epoch 1 | Train loss 1.9566606087493896 | Test loss 1.8883194715499878\n",
      "Epoch 2 | Train loss 1.8456227488327026 | Test loss 1.7758480083465575\n",
      "Epoch 3 | Train loss 1.7311101616287232 | Test loss 1.6969477132797242\n",
      "Epoch 4 | Train loss 1.6476817267990111 | Test loss 1.6079809949874877\n",
      "Epoch 5 | Train loss 1.5956421734619142 | Test loss 1.5609734718322754\n",
      "Epoch 6 | Train loss 1.5617684621810912 | Test loss 1.5548090370178222\n",
      "Epoch 7 | Train loss 1.5505534083175658 | Test loss 1.5147695301055908\n",
      "Epoch 8 | Train loss 1.5014754904937744 | Test loss 1.4934063514709472\n",
      "Epoch 9 | Train loss 1.4890406032562256 | Test loss 1.4699121244430542\n",
      "Epoch 10 | Train loss 1.4687965659332276 | Test loss 1.45623053855896\n",
      "Epoch 11 | Train loss 1.4453508493423461 | Test loss 1.4393410747528077\n",
      "Epoch 12 | Train loss 1.4440991391372682 | Test loss 1.425937425994873\n",
      "Epoch 13 | Train loss 1.4160287814331054 | Test loss 1.407286007499695\n",
      "Epoch 14 | Train loss 1.3985662466812134 | Test loss 1.3991049310684205\n",
      "Epoch 15 | Train loss 1.3816290103530884 | Test loss 1.3797788480758666\n",
      "Epoch 16 | Train loss 1.3748573682785035 | Test loss 1.3847289672851562\n",
      "Epoch 17 | Train loss 1.362471612815857 | Test loss 1.3580458374023439\n",
      "Epoch 18 | Train loss 1.3469736470794678 | Test loss 1.3702642501831055\n",
      "Epoch 19 | Train loss 1.3349163458633422 | Test loss 1.335130272293091\n",
      "Epoch 20 | Train loss 1.3234548388671874 | Test loss 1.3311624114990235\n",
      "Epoch 21 | Train loss 1.3135366056442261 | Test loss 1.3277004543304443\n",
      "Epoch 22 | Train loss 1.3011338675308228 | Test loss 1.3028419542312621\n",
      "Epoch 23 | Train loss 1.289391449699402 | Test loss 1.307492989730835\n",
      "Epoch 24 | Train loss 1.279059352493286 | Test loss 1.2958346935272216\n",
      "Epoch 25 | Train loss 1.271761603088379 | Test loss 1.2975359699249267\n",
      "Epoch 26 | Train loss 1.2566009965133667 | Test loss 1.2767341691970826\n",
      "Epoch 27 | Train loss 1.26018278465271 | Test loss 1.2719833604812623\n",
      "Epoch 28 | Train loss 1.2430489265823363 | Test loss 1.259871627998352\n",
      "Epoch 29 | Train loss 1.2346900911331178 | Test loss 1.2667263938903808\n",
      "Epoch 30 | Train loss 1.231461670036316 | Test loss 1.266809994125366\n",
      "Epoch 31 | Train loss 1.2282401639938354 | Test loss 1.2533340560913087\n",
      "Epoch 32 | Train loss 1.2146085786819458 | Test loss 1.2362608358383178\n",
      "Epoch 33 | Train loss 1.2114791147232056 | Test loss 1.2353670351028443\n",
      "Epoch 34 | Train loss 1.205775590133667 | Test loss 1.237330251312256\n",
      "Epoch 35 | Train loss 1.1888602058410644 | Test loss 1.2498354267120362\n",
      "Epoch 36 | Train loss 1.1817831720733643 | Test loss 1.2242601648330689\n",
      "Epoch 37 | Train loss 1.177260011329651 | Test loss 1.2121318752288819\n",
      "Epoch 38 | Train loss 1.1662839671325684 | Test loss 1.2074640838623047\n",
      "Epoch 39 | Train loss 1.1660781201934813 | Test loss 1.2195677389144897\n",
      "Epoch 40 | Train loss 1.1566685247421264 | Test loss 1.2187023275375366\n",
      "Epoch 41 | Train loss 1.1543606063461305 | Test loss 1.2153999919891358\n",
      "Epoch 42 | Train loss 1.153158578567505 | Test loss 1.2015421905517578\n",
      "Epoch 43 | Train loss 1.1505181674194336 | Test loss 1.2182270404815674\n",
      "Epoch 44 | Train loss 1.1348581348419189 | Test loss 1.1907721029281617\n",
      "Epoch 45 | Train loss 1.1299480862045288 | Test loss 1.195627146911621\n",
      "Epoch 46 | Train loss 1.1209310104751586 | Test loss 1.205854160118103\n",
      "Epoch 47 | Train loss 1.1240463773345948 | Test loss 1.1767853536605835\n",
      "Epoch 48 | Train loss 1.112593865661621 | Test loss 1.1711706510543822\n",
      "Epoch 49 | Train loss 1.1058287395095825 | Test loss 1.1804397718429565\n",
      "Epoch 50 | Train loss 1.1073911892318726 | Test loss 1.1637076160430908\n",
      "Epoch 51 | Train loss 1.0920491570663453 | Test loss 1.1612684463500977\n",
      "Epoch 52 | Train loss 1.0849821646118165 | Test loss 1.1896140949249268\n",
      "Epoch 53 | Train loss 1.0945708722305298 | Test loss 1.1791545682907105\n",
      "Epoch 54 | Train loss 1.0812161001205445 | Test loss 1.1662854402542113\n",
      "Epoch 55 | Train loss 1.0704678790283204 | Test loss 1.1463276762008667\n",
      "Epoch 56 | Train loss 1.0634202094268799 | Test loss 1.1589933017730714\n",
      "Epoch 57 | Train loss 1.0635340634155273 | Test loss 1.1728653099060058\n",
      "Epoch 58 | Train loss 1.0648564978790283 | Test loss 1.1385689132690429\n",
      "Epoch 59 | Train loss 1.0617855672073364 | Test loss 1.1616091396331787\n",
      "Epoch 60 | Train loss 1.060241527557373 | Test loss 1.1412272371292114\n",
      "Epoch 61 | Train loss 1.0471722999191284 | Test loss 1.1390097635269165\n",
      "Epoch 62 | Train loss 1.0456750302124023 | Test loss 1.136912488555908\n",
      "Epoch 63 | Train loss 1.04355247631073 | Test loss 1.1423723781585693\n",
      "Epoch 64 | Train loss 1.0350854265213012 | Test loss 1.1441360418319702\n",
      "Epoch 65 | Train loss 1.0327402294540404 | Test loss 1.1225546224594116\n",
      "Epoch 66 | Train loss 1.024635950164795 | Test loss 1.1500797481536866\n",
      "Epoch 67 | Train loss 1.020803805732727 | Test loss 1.1292262599945069\n",
      "Epoch 68 | Train loss 1.0239375839996339 | Test loss 1.152361402130127\n",
      "Epoch 69 | Train loss 1.014206718864441 | Test loss 1.1197205545425415\n",
      "Epoch 70 | Train loss 1.0186694231796265 | Test loss 1.1326368980407715\n",
      "Epoch 71 | Train loss 1.0097880345535277 | Test loss 1.1315602325439453\n",
      "Epoch 72 | Train loss 1.0032403515052795 | Test loss 1.1360627714157105\n",
      "Epoch 73 | Train loss 1.000596208152771 | Test loss 1.1276924856185913\n",
      "Epoch 74 | Train loss 0.9948960532379151 | Test loss 1.1214449922561645\n",
      "Epoch 75 | Train loss 0.9958116018867492 | Test loss 1.108480299949646\n",
      "Epoch 76 | Train loss 0.997982622795105 | Test loss 1.109981979560852\n",
      "Epoch 77 | Train loss 0.9865423505783081 | Test loss 1.1335003149032592\n",
      "Epoch 78 | Train loss 0.9888296977615356 | Test loss 1.102032014465332\n",
      "Epoch 79 | Train loss 0.9833350358581543 | Test loss 1.0991391742706298\n",
      "Epoch 80 | Train loss 0.9789759851837159 | Test loss 1.1112460060119629\n",
      "Epoch 81 | Train loss 0.9764563452529907 | Test loss 1.1241848232269287\n",
      "Epoch 82 | Train loss 0.9773180492591858 | Test loss 1.1051785049438476\n",
      "Epoch 83 | Train loss 0.9558769163131714 | Test loss 1.106933512878418\n",
      "Epoch 84 | Train loss 0.9608527900314331 | Test loss 1.0972154670715333\n",
      "Epoch 85 | Train loss 0.952469219493866 | Test loss 1.1010450086593628\n",
      "Epoch 86 | Train loss 0.9572553800392151 | Test loss 1.117987233352661\n",
      "Epoch 87 | Train loss 0.9571931110954285 | Test loss 1.1085435258865357\n",
      "Epoch 88 | Train loss 0.9503572658729553 | Test loss 1.1154890886306763\n",
      "Epoch 89 | Train loss 0.946204227142334 | Test loss 1.1046307470321655\n",
      "Epoch 90 | Train loss 0.9503612251472473 | Test loss 1.108354600906372\n",
      "Epoch 91 | Train loss 0.9449195506286621 | Test loss 1.1003279754638673\n",
      "Epoch 92 | Train loss 0.9383673605728149 | Test loss 1.0918063215255738\n",
      "Epoch 93 | Train loss 0.9307575296974182 | Test loss 1.0883119152069092\n",
      "Epoch 94 | Train loss 0.929472718410492 | Test loss 1.0939498556137084\n",
      "Epoch 95 | Train loss 0.9185794349861145 | Test loss 1.0879887128829957\n",
      "Epoch 96 | Train loss 0.924870761680603 | Test loss 1.0906298486709596\n",
      "Epoch 97 | Train loss 0.9191562525177002 | Test loss 1.0901273612976075\n",
      "Epoch 98 | Train loss 0.910559972038269 | Test loss 1.084562918663025\n",
      "Epoch 99 | Train loss 0.9128381966972351 | Test loss 1.1042985151290894\n"
     ]
    }
   ],
   "source": [
    "model = Model().to(device)\n",
    "train_l, test_l = train(model)"
   ]
  },
  {
   "cell_type": "markdown",
   "metadata": {
    "id": "OJNAuHjNQuvn"
   },
   "source": [
    "Построим график функции потерь"
   ]
  },
  {
   "cell_type": "code",
   "execution_count": 77,
   "metadata": {
    "colab": {
     "base_uri": "https://localhost:8080/",
     "height": 441
    },
    "id": "F6OEGqriQuvo",
    "outputId": "7b1768fd-369e-43dd-f60c-c1858cd30ea5"
   },
   "outputs": [
    {
     "data": {
      "image/png": "[encoded data removed]",
      "text/plain": [
       "<Figure size 864x432 with 1 Axes>"
      ]
     },
     "metadata": {
      "needs_background": "light"
     },
     "output_type": "display_data"
    }
   ],
   "source": [
    "plt.figure(figsize=(12, 6))\n",
    "plt.plot(range(len(train_l)), train_l, label=\"train\")\n",
    "plt.plot(range(len(test_l)), test_l, label=\"test\")\n",
    "plt.xlabel(\"Epoch\")\n",
    "plt.ylabel(\"Loss\")\n",
    "plt.legend()\n",
    "plt.tight_layout()\n",
    "plt.show()"
   ]
  },
  {
   "cell_type": "markdown",
   "metadata": {
    "id": "miUxg0bDQuvs"
   },
   "source": [
    "И, наконец, посчитаем метрики"
   ]
  },
  {
   "cell_type": "code",
   "execution_count": 78,
   "metadata": {
    "colab": {
     "base_uri": "https://localhost:8080/"
    },
    "id": "UXSOJFI8Quvt",
    "outputId": "6ee92914-61e8-499f-e207-d6740432e2f4"
   },
   "outputs": [
    {
     "name": "stdout",
     "output_type": "stream",
     "text": [
      "Overall accuracy 0.6146\n",
      "Precision [0.70259067 0.72708758 0.52397661 0.42250287 0.51011434 0.6489726\n",
      " 0.57416608 0.68495935 0.7394297  0.62207358]\n",
      "Recall [0.678 0.714 0.448 0.368 0.58  0.379 0.809 0.674 0.752 0.744]\n",
      "Mean Precision 0.6155873365714036\n",
      "Mean Recall 0.6146\n"
     ]
    }
   ],
   "source": [
    "true_positive = np.zeros(10)\n",
    "true_negative = np.zeros(10)\n",
    "false_positive = np.zeros(10)\n",
    "false_negative = np.zeros(10)\n",
    "accuracy = 0\n",
    "ctn = 0\n",
    "for X, y in iter(test_loader):\n",
    "    X = X.to(device)\n",
    "    y = y.to(device)\n",
    "    with torch.no_grad():\n",
    "        y_pred = model(X).max(dim=1)[1]\n",
    "    for i in range(10):\n",
    "        for pred, real in zip(y_pred, y):\n",
    "            if real == i:\n",
    "                if pred == real:\n",
    "                    true_positive[i] += 1\n",
    "                else:\n",
    "                    false_negative[i] += 1\n",
    "            else:\n",
    "                if pred == i:\n",
    "                    false_positive[i] += 1\n",
    "                else:\n",
    "                    true_negative[i] += 1\n",
    "            \n",
    "    accuracy += torch.sum(y_pred == y).item()\n",
    "    ctn += len(y)\n",
    "print(\"Overall accuracy\", accuracy / ctn)\n",
    "print(\"Precision\", true_positive / (true_positive + false_positive))\n",
    "print(\"Recall\", true_positive / (true_positive + false_negative))\n",
    "print(\"Mean Precision\", np.mean(true_positive / (true_positive + false_positive)))\n",
    "print(\"Mean Recall\", np.mean(true_positive / (true_positive + false_negative)))"
   ]
  }
 ],
 "metadata": {
  "colab": {
   "collapsed_sections": [],
   "name": "hw05_task.ipynb",
   "provenance": []
  },
  "kernelspec": {
   "display_name": "Python 3 (ipykernel)",
   "language": "python",
   "name": "python3"
  },
  "language_info": {
   "codemirror_mode": {
    "name": "ipython",
    "version": 3
   },
   "file_extension": ".py",
   "mimetype": "text/x-python",
   "name": "python",
   "nbconvert_exporter": "python",
   "pygments_lexer": "ipython3",
   "version": "3.8.10"
  },
  "widgets": {
   "application/vnd.jupyter.widget-state+json": {
    "012fea2716044fbfa10484ce44feffea": {
     "model_module": "@jupyter-widgets/controls",
     "model_module_version": "1.5.0",
     "model_name": "HTMLModel",
     "state": {
      "_dom_classes": [],
      "_model_module": "@jupyter-widgets/controls",
      "_model_module_version": "1.5.0",
      "_model_name": "HTMLModel",
      "_view_count": null,
      "_view_module": "@jupyter-widgets/controls",
      "_view_module_version": "1.5.0",
      "_view_name": "HTMLView",
      "description": "",
      "description_tooltip": null,
      "layout": "IPY_MODEL_c23538dc20fe4456b5f69b22248aae06",
      "placeholder": "​",
      "style": "IPY_MODEL_510a3e2157e646dc9228c6c373407a55",
      "value": " 170499072/? [00:07&lt;00:00, 45214031.94it/s]"
     }
    },
    "09299269f2ac420183e8a83f0e210346": {
     "model_module": "@jupyter-widgets/controls",
     "model_module_version": "1.5.0",
     "model_name": "ProgressStyleModel",
     "state": {
      "_model_module": "@jupyter-widgets/controls",
      "_model_module_version": "1.5.0",
      "_model_name": "ProgressStyleModel",
      "_view_count": null,
      "_view_module": "@jupyter-widgets/base",
      "_view_module_version": "1.2.0",
      "_view_name": "StyleView",
      "bar_color": null,
      "description_width": ""
     }
    },
    "2b2617448bea46a1bed0b422c3120bc2": {
     "model_module": "@jupyter-widgets/controls",
     "model_module_version": "1.5.0",
     "model_name": "FloatProgressModel",
     "state": {
      "_dom_classes": [],
      "_model_module": "@jupyter-widgets/controls",
      "_model_module_version": "1.5.0",
      "_model_name": "FloatProgressModel",
      "_view_count": null,
      "_view_module": "@jupyter-widgets/controls",
      "_view_module_version": "1.5.0",
      "_view_name": "ProgressView",
      "bar_style": "success",
      "description": "",
      "description_tooltip": null,
      "layout": "IPY_MODEL_5c6eb89346ed42cdbfb5aba4f3737dd5",
      "max": 170498071,
      "min": 0,
      "orientation": "horizontal",
      "style": "IPY_MODEL_09299269f2ac420183e8a83f0e210346",
      "value": 170498071
     }
    },
    "510a3e2157e646dc9228c6c373407a55": {
     "model_module": "@jupyter-widgets/controls",
     "model_module_version": "1.5.0",
     "model_name": "DescriptionStyleModel",
     "state": {
      "_model_module": "@jupyter-widgets/controls",
      "_model_module_version": "1.5.0",
      "_model_name": "DescriptionStyleModel",
      "_view_count": null,
      "_view_module": "@jupyter-widgets/base",
      "_view_module_version": "1.2.0",
      "_view_name": "StyleView",
      "description_width": ""
     }
    },
    "5c6eb89346ed42cdbfb5aba4f3737dd5": {
     "model_module": "@jupyter-widgets/base",
     "model_module_version": "1.2.0",
     "model_name": "LayoutModel",
     "state": {
      "_model_module": "@jupyter-widgets/base",
      "_model_module_version": "1.2.0",
      "_model_name": "LayoutModel",
      "_view_count": null,
      "_view_module": "@jupyter-widgets/base",
      "_view_module_version": "1.2.0",
      "_view_name": "LayoutView",
      "align_content": null,
      "align_items": null,
      "align_self": null,
      "border": null,
      "bottom": null,
      "display": null,
      "flex": null,
      "flex_flow": null,
      "grid_area": null,
      "grid_auto_columns": null,
      "grid_auto_flow": null,
      "grid_auto_rows": null,
      "grid_column": null,
      "grid_gap": null,
      "grid_row": null,
      "grid_template_areas": null,
      "grid_template_columns": null,
      "grid_template_rows": null,
      "height": null,
      "justify_content": null,
      "justify_items": null,
      "left": null,
      "margin": null,
      "max_height": null,
      "max_width": null,
      "min_height": null,
      "min_width": null,
      "object_fit": null,
      "object_position": null,
      "order": null,
      "overflow": null,
      "overflow_x": null,
      "overflow_y": null,
      "padding": null,
      "right": null,
      "top": null,
      "visibility": null,
      "width": null
     }
    },
    "c23538dc20fe4456b5f69b22248aae06": {
     "model_module": "@jupyter-widgets/base",
     "model_module_version": "1.2.0",
     "model_name": "LayoutModel",
     "state": {
      "_model_module": "@jupyter-widgets/base",
      "_model_module_version": "1.2.0",
      "_model_name": "LayoutModel",
      "_view_count": null,
      "_view_module": "@jupyter-widgets/base",
      "_view_module_version": "1.2.0",
      "_view_name": "LayoutView",
      "align_content": null,
      "align_items": null,
      "align_self": null,
      "border": null,
      "bottom": null,
      "display": null,
      "flex": null,
      "flex_flow": null,
      "grid_area": null,
      "grid_auto_columns": null,
      "grid_auto_flow": null,
      "grid_auto_rows": null,
      "grid_column": null,
      "grid_gap": null,
      "grid_row": null,
      "grid_template_areas": null,
      "grid_template_columns": null,
      "grid_template_rows": null,
      "height": null,
      "justify_content": null,
      "justify_items": null,
      "left": null,
      "margin": null,
      "max_height": null,
      "max_width": null,
      "min_height": null,
      "min_width": null,
      "object_fit": null,
      "object_position": null,
      "order": null,
      "overflow": null,
      "overflow_x": null,
      "overflow_y": null,
      "padding": null,
      "right": null,
      "top": null,
      "visibility": null,
      "width": null
     }
    },
    "d96d7ef9b2864c86aedacf153ba1690e": {
     "model_module": "@jupyter-widgets/controls",
     "model_module_version": "1.5.0",
     "model_name": "HTMLModel",
     "state": {
      "_dom_classes": [],
      "_model_module": "@jupyter-widgets/controls",
      "_model_module_version": "1.5.0",
      "_model_name": "HTMLModel",
      "_view_count": null,
      "_view_module": "@jupyter-widgets/controls",
      "_view_module_version": "1.5.0",
      "_view_name": "HTMLView",
      "description": "",
      "description_tooltip": null,
      "layout": "IPY_MODEL_e0e85d34b25a45469aade3f1d7ec35c9",
      "placeholder": "​",
      "style": "IPY_MODEL_e84f5022500f4735974118592aa907ca",
      "value": ""
     }
    },
    "e0e85d34b25a45469aade3f1d7ec35c9": {
     "model_module": "@jupyter-widgets/base",
     "model_module_version": "1.2.0",
     "model_name": "LayoutModel",
     "state": {
      "_model_module": "@jupyter-widgets/base",
      "_model_module_version": "1.2.0",
      "_model_name": "LayoutModel",
      "_view_count": null,
      "_view_module": "@jupyter-widgets/base",
      "_view_module_version": "1.2.0",
      "_view_name": "LayoutView",
      "align_content": null,
      "align_items": null,
      "align_self": null,
      "border": null,
      "bottom": null,
      "display": null,
      "flex": null,
      "flex_flow": null,
      "grid_area": null,
      "grid_auto_columns": null,
      "grid_auto_flow": null,
      "grid_auto_rows": null,
      "grid_column": null,
      "grid_gap": null,
      "grid_row": null,
      "grid_template_areas": null,
      "grid_template_columns": null,
      "grid_template_rows": null,
      "height": null,
      "justify_content": null,
      "justify_items": null,
      "left": null,
      "margin": null,
      "max_height": null,
      "max_width": null,
      "min_height": null,
      "min_width": null,
      "object_fit": null,
      "object_position": null,
      "order": null,
      "overflow": null,
      "overflow_x": null,
      "overflow_y": null,
      "padding": null,
      "right": null,
      "top": null,
      "visibility": null,
      "width": null
     }
    },
    "e2fd22dea66e40918d63f82480c17bb6": {
     "model_module": "@jupyter-widgets/controls",
     "model_module_version": "1.5.0",
     "model_name": "HBoxModel",
     "state": {
      "_dom_classes": [],
      "_model_module": "@jupyter-widgets/controls",
      "_model_module_version": "1.5.0",
      "_model_name": "HBoxModel",
      "_view_count": null,
      "_view_module": "@jupyter-widgets/controls",
      "_view_module_version": "1.5.0",
      "_view_name": "HBoxView",
      "box_style": "",
      "children": [
       "IPY_MODEL_d96d7ef9b2864c86aedacf153ba1690e",
       "IPY_MODEL_2b2617448bea46a1bed0b422c3120bc2",
       "IPY_MODEL_012fea2716044fbfa10484ce44feffea"
      ],
      "layout": "IPY_MODEL_fbab2e16ed3344538d32c8306ad0dcd1"
     }
    },
    "e84f5022500f4735974118592aa907ca": {
     "model_module": "@jupyter-widgets/controls",
     "model_module_version": "1.5.0",
     "model_name": "DescriptionStyleModel",
     "state": {
      "_model_module": "@jupyter-widgets/controls",
      "_model_module_version": "1.5.0",
      "_model_name": "DescriptionStyleModel",
      "_view_count": null,
      "_view_module": "@jupyter-widgets/base",
      "_view_module_version": "1.2.0",
      "_view_name": "StyleView",
      "description_width": ""
     }
    },
    "fbab2e16ed3344538d32c8306ad0dcd1": {
     "model_module": "@jupyter-widgets/base",
     "model_module_version": "1.2.0",
     "model_name": "LayoutModel",
     "state": {
      "_model_module": "@jupyter-widgets/base",
      "_model_module_version": "1.2.0",
      "_model_name": "LayoutModel",
      "_view_count": null,
      "_view_module": "@jupyter-widgets/base",
      "_view_module_version": "1.2.0",
      "_view_name": "LayoutView",
      "align_content": null,
      "align_items": null,
      "align_self": null,
      "border": null,
      "bottom": null,
      "display": null,
      "flex": null,
      "flex_flow": null,
      "grid_area": null,
      "grid_auto_columns": null,
      "grid_auto_flow": null,
      "grid_auto_rows": null,
      "grid_column": null,
      "grid_gap": null,
      "grid_row": null,
      "grid_template_areas": null,
      "grid_template_columns": null,
      "grid_template_rows": null,
      "height": null,
      "justify_content": null,
      "justify_items": null,
      "left": null,
      "margin": null,
      "max_height": null,
      "max_width": null,
      "min_height": null,
      "min_width": null,
      "object_fit": null,
      "object_position": null,
      "order": null,
      "overflow": null,
      "overflow_x": null,
      "overflow_y": null,
      "padding": null,
      "right": null,
      "top": null,
      "visibility": null,
      "width": null
     }
    }
   }
  }
 },
 "nbformat": 4,
 "nbformat_minor": 4
}
