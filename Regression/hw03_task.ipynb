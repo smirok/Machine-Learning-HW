{
 "cells": [
  {
   "cell_type": "markdown",
   "metadata": {},
   "source": [
    "# Линейная регрессия"
   ]
  },
  {
   "cell_type": "code",
   "execution_count": 2,
   "metadata": {},
   "outputs": [],
   "source": [
    "from sklearn.datasets import make_blobs, make_moons\n",
    "from sklearn.model_selection import train_test_split\n",
    "from sklearn.preprocessing import StandardScaler\n",
    "\n",
    "import numpy as np\n",
    "import pandas as pd\n",
    "import random\n",
    "import matplotlib.pyplot as plt\n",
    "import matplotlib\n",
    "import copy\n",
    "\n",
    "np.set_printoptions(suppress=True)"
   ]
  },
  {
   "cell_type": "code",
   "execution_count": 3,
   "metadata": {},
   "outputs": [],
   "source": [
    "def read_data(path=\"boston.csv\"):\n",
    "    with open(path) as f:\n",
    "        my_lines = f.readlines()\n",
    "        columns = my_lines[14].split(',')\n",
    "    \n",
    "    columns[-1] = columns[-1].rstrip()\n",
    "    df = pd.DataFrame(np.genfromtxt(path, delimiter=\",\", skip_header=15))\n",
    "    df.columns = columns\n",
    "    \n",
    "    df = df.sample(frac=1, random_state=42)\n",
    "    X = df.drop(['medv'], axis=1)\n",
    "    y = df.medv\n",
    "    return X, y"
   ]
  },
  {
   "cell_type": "code",
   "execution_count": 4,
   "metadata": {},
   "outputs": [],
   "source": [
    "def generate_synthetic(size:int, dim=6, noise=0.1):\n",
    "    X = np.random.randn(size, dim)\n",
    "    w = np.random.randn(dim + 1)\n",
    "    noise = noise * np.random.randn(size)\n",
    "    y = X.dot(w[1:]) + w[0] + noise\n",
    "    return X, y"
   ]
  },
  {
   "cell_type": "code",
   "execution_count": 5,
   "metadata": {},
   "outputs": [],
   "source": [
    "x, y = read_data()"
   ]
  },
  {
   "cell_type": "markdown",
   "metadata": {},
   "source": [
    "### Задание 1 (1 балл)\n",
    "Для начала нужно понять, какую метрику для ошибки будем использовать. В нашем случае нам подойдет стандартная метрика MSE. Также чтобы оценить качество модели нам понадобится метрика $R^2$. Реализуйте обе эти метрики."
   ]
  },
  {
   "cell_type": "code",
   "execution_count": 6,
   "metadata": {},
   "outputs": [],
   "source": [
    "def mse(y_true:np.ndarray, y_predicted:np.ndarray):\n",
    "    return np.mean((y_predicted - y_true) ** 2)\n",
    "\n",
    "def r2(y_true:np.ndarray, y_predicted:np.ndarray):\n",
    "    y_mean_sample = np.mean(y_true)\n",
    "    v = sum([(y_mean_sample - true_value) ** 2 for true_value in y_true])\n",
    "    u = sum([(hypothesis - true_value) ** 2 for hypothesis, true_value in zip(y_predicted, y_true)])\n",
    "    \n",
    "    return 1 - u / v"
   ]
  },
  {
   "cell_type": "markdown",
   "metadata": {},
   "source": [
    "### Задание 2 (3 балла)\n",
    "Теперь реализуем линейную регрессию при помощи явного решения задачи минимизации. \n",
    "\n",
    "#### Методы\n",
    "`fit(X, y)` - решает задачу минимизации $\\arg\\min_{w, b}\\sum ((w\\cdot x + b) - y)^2$. \n",
    "\n",
    "`predict(X)` - строит предсказание `y` для объектов из `X`."
   ]
  },
  {
   "cell_type": "code",
   "execution_count": 7,
   "metadata": {},
   "outputs": [],
   "source": [
    "class NormalLR:\n",
    "    def __init__(self, fit_intercept=True):\n",
    "        self.fit_intercept = fit_intercept\n",
    "    \n",
    "    def fit(self, X:np.ndarray, y:np.ndarray): \n",
    "        if self.fit_intercept:\n",
    "            X = np.hstack((X, np.ones(shape=(X.shape[0], 1))))\n",
    "            \n",
    "        self.w = np.linalg.pinv(X) @ y\n",
    "    \n",
    "    def predict(self, X:np.ndarray) -> np.ndarray:\n",
    "        if self.fit_intercept:\n",
    "            X = np.hstack((X, np.ones(shape=(X.shape[0], 1))))\n",
    "            \n",
    "        return X @ self.w"
   ]
  },
  {
   "cell_type": "code",
   "execution_count": 8,
   "metadata": {},
   "outputs": [],
   "source": [
    "X, y = generate_synthetic(1024)\n",
    "X_train, X_test, y_train, y_test = train_test_split(X, y, train_size=0.8)"
   ]
  },
  {
   "cell_type": "code",
   "execution_count": 9,
   "metadata": {},
   "outputs": [
    {
     "name": "stdout",
     "output_type": "stream",
     "text": [
      "MSE: 0.010012519546406909, R2: 0.998077045044391\n"
     ]
    }
   ],
   "source": [
    "regr = NormalLR(fit_intercept=True)\n",
    "regr.fit(X_train, y_train)\n",
    "y_pred = regr.predict(X_test)\n",
    "print(f\"MSE: {mse(y_test, y_pred)}, R2: {r2(y_test, y_pred)}\")"
   ]
  },
  {
   "cell_type": "markdown",
   "metadata": {},
   "source": [
    "### Задание 3 (2 балла)\n",
    "Теперь реализуем линейную регрессию с использованием градиентного спуска с larning rate `alpha` в течении `iterations` итераций. В задании необходимо использовать регуляризацию Лассо с коэффициентом `l`.\n",
    "\n",
    "#### Методы\n",
    "`fit(X, y)` - приближает решение задачи минимизации $\\arg\\min_{w, b}\\sum ((w\\cdot x + b) - y)^2$ при помощи градиентного спуска. \n",
    "\n",
    "\n",
    "`predict(X)` - строит предсказание `y` для объектов из `X`."
   ]
  },
  {
   "cell_type": "markdown",
   "metadata": {},
   "source": [
    "Помимо изначального функционала будем считать mse на каждой итерации.\n",
    "\n",
    "Считаем, что $|x|' = sign(x)$, причем сглаженный (чтобы не было разрывов $\\Rightarrow$ чтобы MSE всегда невозрастала)\n",
    "\n",
    "Формулы (по мотивам sklearn):\n",
    "\n",
    "**Loss:**\n",
    "\n",
    "$$L(w) = \\frac{1}{2 n} ||Xw - y||^2_2 + \\alpha ||w||_1 = \\frac{1}{2n}(Xw - y)^T(Xw - y)+ \\alpha ||w||_1 = \\frac{1}{2n}(w^T X^T - y^T)(Xw - y)+ \\alpha ||w||_1 = \\frac{1}{2n}(w^T X^TXw - w^TX^Ty - y^TXw + y^Ty)+ \\alpha ||w||_1 = \\frac{1}{2n}(w^T X^TXw - 2w^TX^Ty + y^Ty)+ \\alpha ||w||_1$$\n",
    "\n",
    "**Градиент:**\n",
    "\n",
    "$$\\frac{\\partial L}{\\partial w} = \\frac{1}{2n}((X^TX + (X^TX)^T)w - 2X^Ty) + \\alpha \\; sign(w) = \\frac{1}{n} (X^TXw - X^Ty) + \\alpha \\; sign(w) = \\frac{1}{n} X^T(Xw - y) + \\alpha  \\; sign(w) = \\frac{1}{n} X^T(y_{pred} - y) + \\alpha  \\; sign(w)$$"
   ]
  },
  {
   "cell_type": "code",
   "execution_count": 10,
   "metadata": {},
   "outputs": [],
   "source": [
    "class GradientLR:\n",
    "    \n",
    "    def __init__(self, alpha:float, iterations=10000, l=0., fit_intercept=True):\n",
    "        self.alpha = alpha\n",
    "        self.iterations = iterations\n",
    "        self.l = l\n",
    "        self.fit_intercept = fit_intercept\n",
    "    \n",
    "    def fit(self, X:np.ndarray, y:np.ndarray):\n",
    "        n_rows, n_col = X.shape\n",
    "        \n",
    "        X_train = X\n",
    "        if self.fit_intercept:\n",
    "            X_train = np.hstack((X, np.ones((n_rows, 1))))\n",
    "        \n",
    "        self.w = np.zeros(n_col + 1 if self.fit_intercept else n_col)\n",
    "        self.losses = []\n",
    "        \n",
    "        for _ in range(self.iterations):\n",
    "            y_pred = self.predict(X)\n",
    "            self.losses.append(mse(y, y_pred))\n",
    "\n",
    "            self.w -= self.alpha * (self._calc_gradient_l1() + (self._calc_gradient(X_train, y, y_pred)) / n_rows)\n",
    "\n",
    "    def predict(self, X:np.ndarray):\n",
    "        X_train = X\n",
    "        if self.fit_intercept:\n",
    "            X_train = np.hstack((X, np.ones((X.shape[0], 1))))\n",
    "            \n",
    "        return X_train @ self.w\n",
    "    \n",
    "    def get_losses(self):\n",
    "        return self.losses\n",
    "    \n",
    "    def _calc_gradient(self, X, y, y_pred):\n",
    "        grad = X.T @ (y_pred - y)\n",
    "        return grad\n",
    "    \n",
    "    def _calc_gradient_l1(self):\n",
    "        grad_l1 = GradientLR.soft_sign(self.w)\n",
    "        \n",
    "        if self.fit_intercept:\n",
    "            grad_l1[-1] = 0 # bias в регуляризационные слагаемое не входит.\n",
    "            \n",
    "        return grad_l1 * self.l\n",
    "    \n",
    "    @staticmethod\n",
    "    def soft_sign(xs, eps=1e-7):\n",
    "        return np.array(list(map(lambda x: np.sign(x) if abs(x) > eps else x / eps, xs)))"
   ]
  },
  {
   "cell_type": "code",
   "execution_count": 10,
   "metadata": {},
   "outputs": [],
   "source": [
    "def build_plot(X_train, y_train, X_test, y_test, alpha=0.1, range_start=0.0, range_end=0.002, step=0.00002):\n",
    "    xs = np.arange(range_start, range_end, step)\n",
    "    errors = []\n",
    "    for x in xs:\n",
    "        regr = GradientLR(alpha, iterations=10000, l=x)\n",
    "        regr.fit(X_train, y_train)\n",
    "        errors.append(mse(y_test, regr.predict(X_test)))\n",
    "    plt.figure(figsize=(9, 4))\n",
    "    plt.xlim(xs[0], xs[-1])\n",
    "    plt.grid()\n",
    "    plt.plot(xs, errors)\n",
    "    plt.show()"
   ]
  },
  {
   "cell_type": "code",
   "execution_count": 11,
   "metadata": {},
   "outputs": [],
   "source": [
    "X, y = generate_synthetic(1024)\n",
    "X, X_val, y, y_val = train_test_split(X, y, train_size=0.9, shuffle=True)\n",
    "X_train, X_test, y_train, y_test = train_test_split(X, y, train_size=0.8, shuffle=True)\n",
    "\n",
    "scaler = StandardScaler()\n",
    "scaler.fit(X_train)\n",
    "\n",
    "X_test = scaler.transform(X_test)\n",
    "X_train = scaler.transform(X_train)"
   ]
  },
  {
   "cell_type": "code",
   "execution_count": 12,
   "metadata": {},
   "outputs": [
    {
     "data": {
      "image/png": "[encoded data removed]",
      "text/plain": [
       "<Figure size 648x288 with 1 Axes>"
      ]
     },
     "metadata": {
      "needs_background": "light"
     },
     "output_type": "display_data"
    }
   ],
   "source": [
    "build_plot(X_train, y_train, X_val, y_val)"
   ]
  },
  {
   "cell_type": "markdown",
   "metadata": {},
   "source": [
    "Посмотрим на loss в зависимости от номера итерации:"
   ]
  },
  {
   "cell_type": "code",
   "execution_count": 13,
   "metadata": {},
   "outputs": [
    {
     "data": {
      "image/png": "[encoded data removed]",
      "text/plain": [
       "<Figure size 720x504 with 1 Axes>"
      ]
     },
     "metadata": {
      "needs_background": "light"
     },
     "output_type": "display_data"
    }
   ],
   "source": [
    "regr = GradientLR(0.001, iterations=5000)\n",
    "regr.fit(X_train, y_train)\n",
    "l = regr.get_losses()\n",
    "\n",
    "plt.figure(figsize=(10, 7))\n",
    "\n",
    "plt.plot(l)\n",
    "plt.title('Gradient descent learning')\n",
    "plt.ylabel('loss')\n",
    "plt.xlabel('iteration')\n",
    "plt.grid(alpha=0.2)\n",
    "\n",
    "plt.show()"
   ]
  },
  {
   "cell_type": "markdown",
   "metadata": {},
   "source": [
    "Всё как и должно быть."
   ]
  },
  {
   "cell_type": "code",
   "execution_count": 11,
   "metadata": {},
   "outputs": [
    {
     "name": "stdout",
     "output_type": "stream",
     "text": [
      "MSE: 1.860187846574164, R2: 0.6427415276090844\n"
     ]
    }
   ],
   "source": [
    "regr = GradientLR(0.1, iterations=1000, fit_intercept=False)\n",
    "regr.fit(X_train, y_train)\n",
    "y_pred = regr.predict(X_test)\n",
    "print(f\"MSE: {mse(y_test, y_pred)}, R2: {r2(y_test, y_pred)}\")"
   ]
  },
  {
   "cell_type": "markdown",
   "metadata": {},
   "source": [
    "### Задание 4 (2 балла)\n",
    "Протесируйте оба метода на данных `boston.csv`, для градиентного спуска постройте график зависимости ошибки от коэффициента регуляризации. "
   ]
  },
  {
   "cell_type": "code",
   "execution_count": 15,
   "metadata": {},
   "outputs": [],
   "source": [
    "X, y = read_data()\n",
    "X_train, X_val, y_train, y_val = train_test_split(X, y, train_size=0.8, shuffle=False)\n",
    "\n",
    "scaler = StandardScaler()\n",
    "scaler.fit(X_train)\n",
    "\n",
    "X_train = scaler.transform(X_train)\n",
    "X_val = scaler.transform(X_val)"
   ]
  },
  {
   "cell_type": "code",
   "execution_count": 16,
   "metadata": {},
   "outputs": [
    {
     "name": "stdout",
     "output_type": "stream",
     "text": [
      "MSE: 22266311.080837082, R2: 0.6872797475661027\n"
     ]
    }
   ],
   "source": [
    "regr = NormalLR()\n",
    "regr.fit(X_train, y_train)\n",
    "y_pred = regr.predict(X_val)\n",
    "print(f\"MSE: {mse(y_val, y_pred)}, R2: {r2(y_val, y_pred)}\")"
   ]
  },
  {
   "cell_type": "code",
   "execution_count": 17,
   "metadata": {},
   "outputs": [
    {
     "data": {
      "image/png": "[encoded data removed]",
      "text/plain": [
       "<Figure size 648x288 with 1 Axes>"
      ]
     },
     "metadata": {
      "needs_background": "light"
     },
     "output_type": "display_data"
    }
   ],
   "source": [
    "build_plot(X_train, y_train, X_val, y_val, alpha=0.01, range_start=0.0, range_end=200, step=2)"
   ]
  },
  {
   "cell_type": "code",
   "execution_count": 32,
   "metadata": {},
   "outputs": [
    {
     "name": "stdout",
     "output_type": "stream",
     "text": [
      "MSE: 22295903.715824608, R2: 0.6868641324132428\n"
     ]
    }
   ],
   "source": [
    "regr = GradientLR(0.001, iterations=3000)\n",
    "\n",
    "regr.fit(X_train, y_train)\n",
    "y_pred = regr.predict(X_val)\n",
    "print(f\"MSE: {mse(y_val, y_pred)}, R2: {r2(y_val, y_pred)}\")"
   ]
  },
  {
   "cell_type": "code",
   "execution_count": 33,
   "metadata": {},
   "outputs": [
    {
     "data": {
      "image/png": "[encoded data removed]",
      "text/plain": [
       "<Figure size 720x504 with 1 Axes>"
      ]
     },
     "metadata": {
      "needs_background": "light"
     },
     "output_type": "display_data"
    }
   ],
   "source": [
    "l = regr.get_losses()\n",
    "\n",
    "plt.figure(figsize=(10, 7))\n",
    "\n",
    "plt.plot(l)\n",
    "plt.title('Gradient descent learning')\n",
    "plt.ylabel('loss')\n",
    "plt.xlabel('iteration')\n",
    "plt.grid(alpha=0.2)\n",
    "\n",
    "plt.show()"
   ]
  },
  {
   "cell_type": "markdown",
   "metadata": {},
   "source": [
    "### Задание 5 (2 балла)\n",
    "Проинтерпритируйте полученные результаты. Опишите влияние каждого признака на результат предсказания."
   ]
  },
  {
   "cell_type": "markdown",
   "metadata": {},
   "source": [
    "Веса признаков линейной регрессии, решенной методом градиентного спуска:"
   ]
  },
  {
   "cell_type": "code",
   "execution_count": 34,
   "metadata": {},
   "outputs": [
    {
     "data": {
      "text/plain": [
       "[(21386.88118824673, 'bias weight'),\n",
       " (-3303.555737657299, 'lstat'),\n",
       " (3272.006346445369, 'rm'),\n",
       " (-1793.837051133241, 'dis'),\n",
       " (-1693.8445181109014, 'ptratio'),\n",
       " (821.7552167995065, 'b'),\n",
       " (-766.2398086778752, 'nox'),\n",
       " (747.4288091882675, 'chas'),\n",
       " (659.3323721472118, 'rad'),\n",
       " (-650.334788610772, 'indus'),\n",
       " (-647.3609026049477, 'crim'),\n",
       " (-553.2677868528261, 'tax'),\n",
       " (517.9222607762542, 'zn'),\n",
       " (-74.65265998828636, 'age')]"
      ]
     },
     "execution_count": 34,
     "metadata": {},
     "output_type": "execute_result"
    }
   ],
   "source": [
    "sorted(list(zip(regr.w, [*X.columns, *['bias weight']])), key=lambda x: abs(x[0]), reverse=True)"
   ]
  },
  {
   "cell_type": "markdown",
   "metadata": {},
   "source": [
    "Чем больше вес признака (bias не в счёт), тем важнее данный признак для регрессии. Если число положительное, то чем больше значение этого признака, тем больше должен быть таргет. Если число отрицательное, признак и таргет находятся в обратной зависимости."
   ]
  },
  {
   "cell_type": "markdown",
   "metadata": {},
   "source": [
    "График зависимости весов признаков от регуляризационного коэффициента."
   ]
  },
  {
   "cell_type": "code",
   "execution_count": 35,
   "metadata": {},
   "outputs": [
    {
     "data": {
      "image/png": "[encoded data removed]",
      "text/plain": [
       "<Figure size 720x504 with 1 Axes>"
      ]
     },
     "metadata": {
      "needs_background": "light"
     },
     "output_type": "display_data"
    }
   ],
   "source": [
    "ans = []\n",
    "alpha_range = range(0, 10000, 1000)\n",
    "for alpha in alpha_range:\n",
    "    regr = GradientLR(0.001, iterations=2000, l=alpha, fit_intercept=True)\n",
    "    regr.fit(X_train, y_train)\n",
    "    y_pred = regr.predict(X_val)\n",
    "    ans.append(regr.w)\n",
    "\n",
    "ans = pd.DataFrame(ans)\n",
    "plt.figure(figsize=(10, 7))\n",
    "\n",
    "for i in range(X.shape[1]):\n",
    "    \n",
    "    plt.plot(alpha_range, list(ans.iloc[:, i]))\n",
    "    plt.title('Gradient descent')\n",
    "    plt.ylabel('weights')\n",
    "    plt.xlabel('alpha in L1')\n",
    "    plt.grid(alpha=0.2)\n",
    "\n",
    "plt.show()"
   ]
  },
  {
   "cell_type": "markdown",
   "metadata": {},
   "source": [
    "Здесь все признаки, кроме фиктивной 1. При увеличении коэффициента регуляризации увеличивается штраф за большие веса, и веса постепенно уменьшаются по норме. Явно видно свойство $L1$ регуляризации - она позволяет отбирать признаки по важности. Например при $\\alpha = 5000$ веса всего двух признаков не равны 0, эти признаки самые важные (lstat, rm). Далее видно, что всё-таки зеленый признак важнее.\n"
   ]
  },
  {
   "cell_type": "markdown",
   "metadata": {},
   "source": [
    "Причина зануления коэффициентов: можно перейти к эквивалентной задаче, где мы минимизируем не loss + кусок от L1, а только loss, на кусок от L1 накладываем ограничение, что он по норме не больше некоторой константы."
   ]
  },
  {
   "cell_type": "markdown",
   "metadata": {},
   "source": [
    "Тогда у L1 регуляризации больше шанс попасть в точки, где один из весов равен 0."
   ]
  },
  {
   "cell_type": "code",
   "execution_count": 36,
   "metadata": {},
   "outputs": [
    {
     "data": {
      "text/html": [
       "<img src=\"http://neerc.ifmo.ru/wiki/images/e/e8/Ridge_and_Lasso_Regression.png\"/>"
      ],
      "text/plain": [
       "<IPython.core.display.Image object>"
      ]
     },
     "execution_count": 36,
     "metadata": {},
     "output_type": "execute_result"
    }
   ],
   "source": [
    "from IPython.display import Image\n",
    "from IPython.core.display import HTML \n",
    "Image(url=\"http://neerc.ifmo.ru/wiki/images/e/e8/Ridge_and_Lasso_Regression.png\")"
   ]
  },
  {
   "cell_type": "markdown",
   "metadata": {},
   "source": [
    "Однако, в силу того, что градиентный спуск ищет приближённое решение, то веса забитых признаков не в точности равны 0, а колеблются около 0."
   ]
  },
  {
   "cell_type": "code",
   "execution_count": 37,
   "metadata": {},
   "outputs": [
    {
     "data": {
      "text/plain": [
       "[(19462.92504531761, 'bias weight'),\n",
       " (-1363.746790247448, 'lstat'),\n",
       " (714.7203088106453, 'rm'),\n",
       " (-7.4104397408670755, 'nox'),\n",
       " (6.441628479321391, 'b'),\n",
       " (-6.049764132181042, 'indus'),\n",
       " (-4.41384636793631, 'tax'),\n",
       " (-2.291650643984015, 'ptratio'),\n",
       " (-1.7734705569659446, 'chas'),\n",
       " (-1.6253917327062162, 'dis'),\n",
       " (-1.452574414058664, 'crim'),\n",
       " (-1.3378523131398694, 'rad'),\n",
       " (-1.12124960355612, 'zn'),\n",
       " (0.7037197078854214, 'age')]"
      ]
     },
     "execution_count": 37,
     "metadata": {},
     "output_type": "execute_result"
    }
   ],
   "source": [
    "regr = GradientLR(0.001, iterations=2000, l=5000, fit_intercept=True)\n",
    "regr.fit(X_train, y_train)\n",
    "sorted(list(zip(regr.w, [*X.columns, *['bias weight']])), key=lambda x: abs(x[0]), reverse=True)"
   ]
  },
  {
   "cell_type": "markdown",
   "metadata": {},
   "source": [
    "**Мораль работы:**\n",
    "- Аналитическое решение пытается найти точное решение задачи регрессии, но из-за того, что столбцы признаков могут коррелировать между собой или  кол-во признаков сильно меньше кол-ва строк данных, не всегда есть обратная матрица и нужно использовать псевдообратную.\n",
    "- Градиентный спуск с L1 регуляризацией решает задачу регрессии итеративно, но в большинстве случаев не точно. Также важен подбор learning rate и regularization coefficient.\n",
    "- $L1$ регуляризация пытается решить задачу регрессии, используя как можно меньше признаков, поэтому зануляет ненужные.\n",
    "- Регуляризация помогает градиентному спуску не переобучаться, соответственно улучшая метрики на тестовой выборке. Изначально, без $L1$ регуляризации модель получается переобучена на train выборку, с помощью регуляризации мы снижаем variance и модель \"выпрямляется\". Но если продолжать увеличивать l1 ratio, то модель начнется пытаться выучить оптимальную закономерность на меньшем числе признаков, это не получится сделать оптимально и она станет недообученной. Это и есть причина выпуклости функции зависимости MSE от l1 ratio."
   ]
  }
 ],
 "metadata": {
  "kernelspec": {
   "display_name": "Python 3 (ipykernel)",
   "language": "python",
   "name": "python3"
  },
  "language_info": {
   "codemirror_mode": {
    "name": "ipython",
    "version": 3
   },
   "file_extension": ".py",
   "mimetype": "text/x-python",
   "name": "python",
   "nbconvert_exporter": "python",
   "pygments_lexer": "ipython3",
   "version": "3.8.10"
  }
 },
 "nbformat": 4,
 "nbformat_minor": 4
}
